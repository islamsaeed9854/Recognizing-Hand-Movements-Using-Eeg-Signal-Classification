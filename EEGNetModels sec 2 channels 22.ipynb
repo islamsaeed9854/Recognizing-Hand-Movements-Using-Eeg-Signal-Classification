{
  "metadata": {
    "kernelspec": {
      "name": "python3",
      "display_name": "Python 3"
    },
    "language_info": {
      "name": "python",
      "version": "3.7.12",
      "mimetype": "text/x-python",
      "codemirror_mode": {
        "name": "ipython",
        "version": 3
      },
      "pygments_lexer": "ipython3",
      "nbconvert_exporter": "python",
      "file_extension": ".py"
    },
    "colab": {
      "provenance": [],
      "gpuType": "T4"
    },
    "accelerator": "GPU"
  },
  "nbformat_minor": 0,
  "nbformat": 4,
  "cells": [
    {
      "cell_type": "code",
      "source": [
        "%%capture\n",
        "!pip install mne\n",
        "import os\n",
        "from glob import glob\n",
        "import numpy as np\n",
        "import pandas as pd\n",
        "import mne\n",
        "import warnings\n",
        "import tensorflow as tf\n",
        "from sklearn.preprocessing import StandardScaler\n",
        "from sklearn.model_selection import train_test_split\n",
        "import matplotlib.pyplot as plt\n",
        "warnings.filterwarnings('ignore')\n",
        "import random\n",
        "random.seed(42)\n",
        "np.random.seed(42)"
      ],
      "metadata": {
        "id": "U_6tN95-EtLj"
      },
      "execution_count": 1,
      "outputs": []
    },
    {
      "cell_type": "code",
      "source": [
        "from google.colab import drive\n",
        "drive.mount('/content/drive')"
      ],
      "metadata": {
        "colab": {
          "base_uri": "https://localhost:8080/"
        },
        "id": "BFg4PFXgnkeC",
        "outputId": "abcff9b4-7786-4e01-9b53-cc766dbd6f55"
      },
      "execution_count": 2,
      "outputs": [
        {
          "output_type": "stream",
          "name": "stdout",
          "text": [
            "Drive already mounted at /content/drive; to attempt to forcibly remount, call drive.mount(\"/content/drive\", force_remount=True).\n"
          ]
        }
      ]
    },
    {
      "cell_type": "code",
      "source": [
        "data=r'/content/drive/MyDrive/eeg-data-row/session1_sub17_reaching_realMove.vhdr'\n",
        "file_paths=[data]"
      ],
      "metadata": {
        "execution": {
          "iopub.status.busy": "2023-02-24T16:29:20.796337Z",
          "iopub.execute_input": "2023-02-24T16:29:20.796644Z",
          "iopub.status.idle": "2023-02-24T16:29:20.807116Z",
          "shell.execute_reply.started": "2023-02-24T16:29:20.796615Z",
          "shell.execute_reply": "2023-02-24T16:29:20.806182Z"
        },
        "trusted": true,
        "id": "c3_YPJ8em5b0"
      },
      "execution_count": 3,
      "outputs": []
    },
    {
      "cell_type": "code",
      "source": [
        "#'/content/drive/MyDrive/eeg-raw-data-MI/session1_sub12_reaching_MI.vhdr'"
      ],
      "metadata": {
        "id": "QPcMeM5fWRI1"
      },
      "execution_count": 4,
      "outputs": []
    },
    {
      "cell_type": "code",
      "source": [
        "channel_names = [\n",
        "    'Fp1', 'Fp2', 'F3', 'F4', 'F7', 'F8',  # Frontal Channels\n",
        "    'C3', 'C4', 'Cz',  # Central Channels\n",
        "    'P3', 'P4', 'P7', 'P8',  # Parietal Channels\n",
        "    'O1', 'O2',  # Occipital Channels\n",
        "    'T3', 'T4', 'T5', 'T6',  # Temporal Channels\n",
        "    'Fz', 'FCz', 'CPz', 'FT7', 'FT8', 'TP7', 'TP8', 'Oz'  # Additional Channels\n",
        "]"
      ],
      "metadata": {
        "id": "Ked3xkxb_atb"
      },
      "execution_count": 5,
      "outputs": []
    },
    {
      "cell_type": "code",
      "source": [
        "def read_data(path):\n",
        "    data=path\n",
        "    raw = mne.io.read_raw_brainvision(data, preload=True,eog=['hEOG_L','hEOG_R','vEOG_U','vEOG_D'])\n",
        "    raw.drop_channels(['hEOG_L','hEOG_R','vEOG_U','vEOG_D','EMG_1','EMG_2','EMG_3','EMG_4','EMG_5','EMG_6','EMG_ref'])\n",
        "    #raw.drop_channels(['eog-r', 'eog-m', 'eog-l'])\n",
        "    raw.pick_channels(channel_names)\n",
        "    raw.pick_types(eog=False , emg = False , eeg= True )\n",
        "    raw.set_eeg_reference()\n",
        "    #raw.resample(sfreq=1250)\n",
        "    raw.filter(l_freq=0.5,h_freq=30)\n",
        "    events=mne.events_from_annotations(raw)\n",
        "    epoch=mne.Epochs(raw,events[0],event_id=[11,21,31,41,51,61],tmin=0,tmax=2, baseline=(0, 0))\n",
        "    labels=epoch.events[:,-1]\n",
        "    features=epoch.get_data()\n",
        "    return features , labels"
      ],
      "metadata": {
        "execution": {
          "iopub.status.busy": "2023-02-24T16:29:20.670607Z",
          "iopub.execute_input": "2023-02-24T16:29:20.671408Z",
          "iopub.status.idle": "2023-02-24T16:29:20.680289Z",
          "shell.execute_reply.started": "2023-02-24T16:29:20.671362Z",
          "shell.execute_reply": "2023-02-24T16:29:20.679203Z"
        },
        "trusted": true,
        "id": "7wWSzxbEm5bw"
      },
      "execution_count": 6,
      "outputs": []
    },
    {
      "cell_type": "code",
      "source": [
        "def reshape_data (data_epochs):\n",
        "  # add depth 1 to the data\n",
        "  data_epochs= np.reshape(data_epochs,(data_epochs.shape[0],data_epochs.shape[1],data_epochs.shape[2],1))\n",
        "  print (data_epochs.shape)\n",
        "  final_array=np.vstack(data_array)\n",
        "  print(data_epochs.shape)\n",
        "  '''data_epochs=np.moveaxis(data_epochs,1,2)\n",
        "  #data_epochs.shape'''\n",
        "  return data_epochs"
      ],
      "metadata": {
        "id": "GrwdKFmalEC1"
      },
      "execution_count": 7,
      "outputs": []
    },
    {
      "cell_type": "markdown",
      "source": [
        "# so lets read all data\n"
      ],
      "metadata": {
        "id": "LBtn2Wjgm5bw"
      }
    },
    {
      "cell_type": "code",
      "source": [
        "#selected=['AF7','AF3','AFz','F7','F5','F3','F1','Fz','FC5','FC3','FC1','FCz','T7','C5','C3','C1','Cz']\n",
        "data_array , label_array =read_data( file_paths[0])\n",
        "# label_array=[read_data_label(i) for i in file_paths]"
      ],
      "metadata": {
        "execution": {
          "iopub.status.busy": "2023-02-24T16:29:20.815937Z",
          "iopub.execute_input": "2023-02-24T16:29:20.816958Z",
          "iopub.status.idle": "2023-02-24T16:30:09.958043Z",
          "shell.execute_reply.started": "2023-02-24T16:29:20.816911Z",
          "shell.execute_reply": "2023-02-24T16:30:09.957134Z"
        },
        "trusted": true,
        "colab": {
          "base_uri": "https://localhost:8080/"
        },
        "id": "o-zcUqK4m5b0",
        "outputId": "ba63d6b9-e01d-46f0-ed7e-2657a39f0349"
      },
      "execution_count": 8,
      "outputs": [
        {
          "output_type": "stream",
          "name": "stdout",
          "text": [
            "Extracting parameters from /content/drive/MyDrive/eeg-data-row/session1_sub1_reaching_realMove.vhdr...\n",
            "Setting channel info structure...\n",
            "Reading 0 ... 8434299  =      0.000 ...  3373.720 secs...\n",
            "NOTE: pick_channels() is a legacy function. New code should use inst.pick(...).\n",
            "NOTE: pick_types() is a legacy function. New code should use inst.pick(...).\n",
            "EEG channel type selected for re-referencing\n",
            "Applying average reference.\n",
            "Applying a custom ('EEG',) reference.\n",
            "Filtering raw data in 1 contiguous segment\n",
            "Setting up band-pass filter from 0.5 - 30 Hz\n",
            "\n",
            "FIR filter parameters\n",
            "---------------------\n",
            "Designing a one-pass, zero-phase, non-causal bandpass filter:\n",
            "- Windowed time-domain design (firwin) method\n",
            "- Hamming window with 0.0194 passband ripple and 53 dB stopband attenuation\n",
            "- Lower passband edge: 0.50\n",
            "- Lower transition bandwidth: 0.50 Hz (-6 dB cutoff frequency: 0.25 Hz)\n",
            "- Upper passband edge: 30.00 Hz\n",
            "- Upper transition bandwidth: 7.50 Hz (-6 dB cutoff frequency: 33.75 Hz)\n",
            "- Filter length: 16501 samples (6.600 s)\n",
            "\n"
          ]
        },
        {
          "output_type": "stream",
          "name": "stderr",
          "text": [
            "[Parallel(n_jobs=1)]: Using backend SequentialBackend with 1 concurrent workers.\n",
            "[Parallel(n_jobs=1)]: Done   1 out of   1 | elapsed:    0.5s remaining:    0.0s\n",
            "[Parallel(n_jobs=1)]: Done   2 out of   2 | elapsed:    0.9s remaining:    0.0s\n",
            "[Parallel(n_jobs=1)]: Done   3 out of   3 | elapsed:    1.4s remaining:    0.0s\n",
            "[Parallel(n_jobs=1)]: Done   4 out of   4 | elapsed:    2.1s remaining:    0.0s\n",
            "[Parallel(n_jobs=1)]: Done  22 out of  22 | elapsed:   11.4s finished\n"
          ]
        },
        {
          "output_type": "stream",
          "name": "stdout",
          "text": [
            "Used Annotations descriptions: ['Comment/actiCAP Active Shield On', 'New Segment/', 'Stimulus/S  1', 'Stimulus/S  2', 'Stimulus/S  3', 'Stimulus/S  4', 'Stimulus/S  5', 'Stimulus/S  6', 'Stimulus/S  8', 'Stimulus/S 11', 'Stimulus/S 13', 'Stimulus/S 14', 'Stimulus/S 21', 'Stimulus/S 31', 'Stimulus/S 41', 'Stimulus/S 51', 'Stimulus/S 61']\n",
            "Not setting metadata\n",
            "300 matching events found\n",
            "Applying baseline correction (mode: mean)\n",
            "0 projection items activated\n",
            "Using data from preloaded Raw for 300 events and 5001 original time points ...\n",
            "0 bad epochs dropped\n"
          ]
        }
      ]
    },
    {
      "cell_type": "code",
      "source": [
        "%%capture\n",
        "!pip install PyRiemann>=0.2.5\n",
        "!pip install scikit-learn>=0.20.1\n",
        "!pip install matplotlib>=2.2.3\n",
        "!pip install tensorflow==2.3"
      ],
      "metadata": {
        "id": "QrT-Z3CwwiRa"
      },
      "execution_count": 9,
      "outputs": []
    },
    {
      "cell_type": "code",
      "source": [
        "#reshape data\n",
        "data_epochs = reshape_data(data_array)\n",
        "labels=np.hstack(label_array)\n",
        "\n",
        "#split data\n",
        "X_train, X_test, y_train, y_test=train_test_split(data_epochs,labels,test_size = 0.1,stratify=labels,shuffle=True)#,stratify=final_label,shuffle=True\n",
        "print(X_train.shape,X_test.shape,y_train.shape,y_test.shape)\n",
        "print(pd.DataFrame(y_test).value_counts())\n",
        "\n",
        "# map events to 0-6\n",
        "d={11:0,21:1,31:2,41:3,51:4,61:5,8:6}\n",
        "df=pd.DataFrame(y_train)\n",
        "df=df.replace(d)\n",
        "y_train=tf.keras.utils.to_categorical(df)#\n",
        "df=pd.DataFrame(y_test)\n",
        "df=df.replace(d)\n",
        "y_test=tf.keras.utils.to_categorical(df)#\n",
        "\n",
        "scaler=StandardScaler()\n",
        "X_train=scaler.fit_transform(X_train.reshape(-1,X_train.shape[-1])).reshape(X_train.shape)\n",
        "X_test=scaler.transform(X_test.reshape(-1,X_test.shape[-1])).reshape(X_test.shape)\n",
        "\n",
        "print(X_train.shape,X_test.shape,y_train.shape,y_test.shape)"
      ],
      "metadata": {
        "colab": {
          "base_uri": "https://localhost:8080/"
        },
        "id": "ooqePhDinnMo",
        "outputId": "2fbc058e-5963-4163-f948-1a800e962a4a"
      },
      "execution_count": 10,
      "outputs": [
        {
          "output_type": "stream",
          "name": "stdout",
          "text": [
            "(300, 22, 5001, 1)\n",
            "(300, 22, 5001, 1)\n",
            "(270, 22, 5001, 1) (30, 22, 5001, 1) (270,) (30,)\n",
            "11    5\n",
            "21    5\n",
            "31    5\n",
            "41    5\n",
            "51    5\n",
            "61    5\n",
            "dtype: int64\n",
            "(270, 22, 5001, 1) (30, 22, 5001, 1) (270, 6) (30, 6)\n"
          ]
        }
      ]
    },
    {
      "cell_type": "code",
      "source": [
        "\"\"\"\n",
        " ARL_EEGModels - A collection of Convolutional Neural Network models for EEG\n",
        " Signal Processing and Classification, using Keras and Tensorflow\n",
        " Requirements:\n",
        "    (1) tensorflow == 2.X (as of this writing, 2.0 - 2.3 have been verified\n",
        "        as working)\n",
        "\n",
        " To run the EEG/MEG ERP classification sample script, you will also need\n",
        "    (4) mne >= 0.17.1\n",
        "    (5) PyRiemann >= 0.2.5\n",
        "    (6) scikit-learn >= 0.20.1\n",
        "    (7) matplotlib >= 2.2.3\n",
        "\n",
        " To use:\n",
        "\n",
        "    (1) Place this file in the PYTHONPATH variable in your IDE (i.e.: Spyder)\n",
        "    (2) Import the model as\n",
        "\n",
        "        from EEGModels import EEGNet\n",
        "\n",
        "        model = EEGNet(nb_classes = ..., Chans = ..., Samples = ...)\n",
        "\n",
        "    (3) Then compile and fit the model\n",
        "\n",
        "        model.compile(loss = ..., optimizer = ..., metrics = ...)\n",
        "        fitted    = model.fit(...)\n",
        "        predicted = model.predict(...)\n",
        " Portions of this project are works of the United States Government and are not\n",
        " subject to domestic copyright protection under 17 USC Sec. 105.  Those\n",
        " portions are released world-wide under the terms of the Creative Commons Zero\n",
        " 1.0 (CC0) license.\n",
        "\n",
        " Other portions of this project are subject to domestic copyright protection\n",
        " under 17 USC Sec. 105.  Those portions are licensed under the Apache 2.0\n",
        " license.  The complete text of the license governing this material is in\n",
        " the file labeled LICENSE.TXT that is a part of this project's official\n",
        " distribution.\n",
        "\"\"\"\n",
        "\n",
        "from tensorflow.keras.models import Model\n",
        "from tensorflow.keras.layers import Dense, Activation, Permute, Dropout\n",
        "from tensorflow.keras.layers import Conv2D, MaxPooling2D, AveragePooling2D\n",
        "from tensorflow.keras.layers import SeparableConv2D, DepthwiseConv2D\n",
        "from tensorflow.keras.layers import BatchNormalization\n",
        "from tensorflow.keras.layers import SpatialDropout2D\n",
        "from tensorflow.keras.regularizers import l1_l2\n",
        "from tensorflow.keras.layers import Input, Flatten\n",
        "from tensorflow.keras.constraints import max_norm\n",
        "from tensorflow.keras import backend as K\n",
        "\n",
        "\n",
        "def EEGNet(nb_classes, Chans = 64, Samples = 128,\n",
        "             dropoutRate = 0.5, kernLength = 64, F1 = 8,\n",
        "              D = 2, F2 = 16, norm_rate = 0.25, dropoutType = 'Dropout'):\n",
        "    \"\"\" Keras Implementation of EEGNet\n",
        "    http://iopscience.iop.org/article/10.1088/1741-2552/aace8c/meta\n",
        "    Note that this implements the newest version of EEGNet and NOT the earlier\n",
        "    version (version v1 and v2 on arxiv). We strongly recommend using this\n",
        "    architecture as it performs much better and has nicer properties than\n",
        "    our earlier version. For example:\n",
        "\n",
        "        1. Depthwise Convolutions to learn spatial filters within a\n",
        "        temporal convolution. The use of the depth_multiplier option maps\n",
        "        exactly to the number of spatial filters learned within a temporal\n",
        "        filter. This matches the setup of algorithms like FBCSP which learn\n",
        "        spatial filters within each filter in a filter-bank. This also limits\n",
        "        the number of free parameters to fit when compared to a fully-connected\n",
        "        convolution.\n",
        "\n",
        "        2. Separable Convolutions to learn how to optimally combine spatial\n",
        "        filters across temporal bands. Separable Convolutions are Depthwise\n",
        "        Convolutions followed by (1x1) Pointwise Convolutions.\n",
        "\n",
        "\n",
        "    While the original paper used Dropout, we found that SpatialDropout2D\n",
        "    sometimes produced slightly better results for classification of ERP\n",
        "    signals. However, SpatialDropout2D significantly reduced performance\n",
        "    on the Oscillatory dataset (SMR, BCI-IV Dataset 2A). We recommend using\n",
        "    the default Dropout in most cases.\n",
        "\n",
        "    Assumes the input signal is sampled at 128Hz. If you want to use this model\n",
        "    for any other sampling rate you will need to modify the lengths of temporal\n",
        "    kernels and average pooling size in blocks 1 and 2 as needed (double the\n",
        "    kernel lengths for double the sampling rate, etc). Note that we haven't\n",
        "    tested the model performance with this rule so this may not work well.\n",
        "\n",
        "    The model with default parameters gives the EEGNet-8,2 model as discussed\n",
        "    in the paper. This model should do pretty well in general, although it is\n",
        "  \tadvised to do some model searching to get optimal performance on your\n",
        "  \tparticular dataset.\n",
        "    We set F2 = F1 * D (number of input filters = number of output filters) for\n",
        "    the SeparableConv2D layer. We haven't extensively tested other values of this\n",
        "    parameter (say, F2 < F1 * D for compressed learning, and F2 > F1 * D for\n",
        "    overcomplete). We believe the main parameters to focus on are F1 and D.\n",
        "    Inputs:\n",
        "\n",
        "      nb_classes      : int, number of classes to classify\n",
        "      Chans, Samples  : number of channels and time points in the EEG data\n",
        "      dropoutRate     : dropout fraction\n",
        "      kernLength      : length of temporal convolution in first layer. We found\n",
        "                        that setting this to be half the sampling rate worked\n",
        "                        well in practice. For the SMR dataset in particular\n",
        "                        since the data was high-passed at 4Hz we used a kernel\n",
        "                        length of 32.\n",
        "      F1, F2          : number of temporal filters (F1) and number of pointwise\n",
        "                        filters (F2) to learn. Default: F1 = 8, F2 = F1 * D.\n",
        "      D               : number of spatial filters to learn within each temporal\n",
        "                        convolution. Default: D = 2\n",
        "      dropoutType     : Either SpatialDropout2D or Dropout, passed as a string.\n",
        "\n",
        "    \"\"\"\n",
        "    if dropoutType == 'SpatialDropout2D':\n",
        "        dropoutType = SpatialDropout2D\n",
        "    elif dropoutType == 'Dropout':\n",
        "        dropoutType = Dropout\n",
        "    else:\n",
        "        raise ValueError('dropoutType must be one of SpatialDropout2D '\n",
        "                         'or Dropout, passed as a string.')\n",
        "\n",
        "    input1   = Input(shape = (Chans, Samples, 1))\n",
        "\n",
        "    ##################################################################\n",
        "    block1       = Conv2D(F1, (1, kernLength), padding = 'same',\n",
        "                                   input_shape = (Chans, Samples, 1),\n",
        "                                   use_bias = False)(input1)\n",
        "    block1       = BatchNormalization()(block1)\n",
        "    block1       = DepthwiseConv2D((Chans, 1), use_bias = False,\n",
        "                                   depth_multiplier = D,\n",
        "                                   depthwise_constraint = max_norm(1.))(block1)\n",
        "    block1       = BatchNormalization()(block1)\n",
        "    block1       = Activation('elu')(block1)\n",
        "    block1       = AveragePooling2D((1, 4))(block1)\n",
        "    block1       = dropoutType(dropoutRate)(block1)\n",
        "\n",
        "    block2       = SeparableConv2D(F2, (1, 16),\n",
        "                                   use_bias = False, padding = 'same')(block1)\n",
        "    block2       = BatchNormalization()(block2)\n",
        "    block2       = Activation('elu')(block2)\n",
        "    block2       = AveragePooling2D((1, 8))(block2)\n",
        "    block2       = dropoutType(dropoutRate)(block2)\n",
        "\n",
        "    flatten      = Flatten(name = 'flatten')(block2)\n",
        "\n",
        "    dense        = Dense(nb_classes, name = 'dense',\n",
        "                         kernel_constraint = max_norm(norm_rate))(flatten)\n",
        "    softmax      = Activation('softmax', name = 'softmax')(dense)\n",
        "\n",
        "    return Model(inputs=input1, outputs=softmax)\n",
        "\n",
        "\n",
        "\n",
        "\n",
        "def EEGNet_SSVEP(nb_classes =12, Chans =8 , Samples =256,\n",
        "             dropoutRate = 0.5, kernLength = 256, F1 = 96,\n",
        "             D = 1, F2 = 96, dropoutType = 'Dropout'):\n",
        "    \"\"\" SSVEP Variant of EEGNet, as used in [1].\n",
        "    Inputs:\n",
        "\n",
        "      nb_classes      : int, number of classes to classify\n",
        "      Chans, Samples  : number of channels and time points in the EEG data\n",
        "      dropoutRate     : dropout fraction\n",
        "      kernLength      : length of temporal convolution in first layer\n",
        "      F1, F2          : number of temporal filters (F1) and number of pointwise\n",
        "                        filters (F2) to learn.\n",
        "      D               : number of spatial filters to learn within each temporal\n",
        "                        convolution.\n",
        "      dropoutType     : Either SpatialDropout2D or Dropout, passed as a string.\n",
        "\n",
        "\n",
        "    [1]. Waytowich, N. et. al. (2018). Compact Convolutional Neural Networks\n",
        "    for Classification of Asynchronous Steady-State Visual Evoked Potentials.\n",
        "    Journal of Neural Engineering vol. 15(6).\n",
        "    http://iopscience.iop.org/article/10.1088/1741-2552/aae5d8\n",
        "    \"\"\"\n",
        "\n",
        "    if dropoutType == 'SpatialDropout2D':\n",
        "        dropoutType = SpatialDropout2D\n",
        "    elif dropoutType == 'Dropout':\n",
        "        dropoutType = Dropout\n",
        "    else:\n",
        "        raise ValueError('dropoutType must be one of SpatialDropout2D '\n",
        "                         'or Dropout, passed as a string.')\n",
        "\n",
        "    input1   = Input(shape = (Chans, Samples, 1))\n",
        "\n",
        "    ##################################################################\n",
        "    block1       = Conv2D(F1, (1, kernLength), padding = 'same',\n",
        "                                   input_shape = (Chans, Samples, 1),\n",
        "                                   use_bias = False)(input1)\n",
        "    block1       = BatchNormalization()(block1)\n",
        "    block1       = DepthwiseConv2D((Chans, 1), use_bias = False,\n",
        "                                   depth_multiplier = D,\n",
        "                                   depthwise_constraint = max_norm(1.))(block1)\n",
        "    block1       = BatchNormalization()(block1)\n",
        "    block1       = Activation('elu')(block1)\n",
        "    block1       = AveragePooling2D((1, 4))(block1)\n",
        "    block1       = dropoutType(dropoutRate)(block1)\n",
        "\n",
        "    block2       = SeparableConv2D(F2, (1, 16),\n",
        "                                   use_bias = False, padding = 'same')(block1)\n",
        "    block2       = BatchNormalization()(block2)\n",
        "    block2       = Activation('elu')(block2)\n",
        "    block2       = AveragePooling2D((1, 8))(block2)\n",
        "    block2       = dropoutType(dropoutRate)(block2)\n",
        "\n",
        "    flatten      = Flatten(name = 'flatten')(block2)\n",
        "\n",
        "    dense        = Dense(nb_classes, name = 'dense')(flatten)\n",
        "    softmax      = Activation('softmax', name = 'softmax')(dense)\n",
        "\n",
        "    return Model(inputs=input1, outputs=softmax)\n",
        "\n",
        "\n",
        "\n",
        "def EEGNet_old(nb_classes, Chans = 64, Samples = 128, regRate = 0.0001,\n",
        "           dropoutRate = 0.25, kernels = [(2, 32), (8, 4)], strides = (2, 4)):\n",
        "    \"\"\" Keras Implementation of EEGNet_v1 (https://arxiv.org/abs/1611.08024v2)\n",
        "    This model is the original EEGNet model proposed on arxiv\n",
        "            https://arxiv.org/abs/1611.08024v2\n",
        "\n",
        "    with a few modifications: we use striding instead of max-pooling as this\n",
        "    helped slightly in classification performance while also providing a\n",
        "    computational speed-up.\n",
        "\n",
        "    Note that we no longer recommend the use of this architecture, as the new\n",
        "    version of EEGNet performs much better overall and has nicer properties.\n",
        "\n",
        "    Inputs:\n",
        "\n",
        "        nb_classes     : total number of final categories\n",
        "        Chans, Samples : number of EEG channels and samples, respectively\n",
        "        regRate        : regularization rate for L1 and L2 regularizations\n",
        "        dropoutRate    : dropout fraction\n",
        "        kernels        : the 2nd and 3rd layer kernel dimensions (default is\n",
        "                         the [2, 32] x [8, 4] configuration)\n",
        "        strides        : the stride size (note that this replaces the max-pool\n",
        "                         used in the original paper)\n",
        "\n",
        "    \"\"\"\n",
        "\n",
        "    # start the model\n",
        "    input_main   = Input((Chans, Samples))\n",
        "    layer1       = Conv2D(16, (Chans, 1), input_shape=(Chans, Samples, 1),\n",
        "                                 kernel_regularizer = l1_l2(l1=regRate, l2=regRate))(input_main)\n",
        "    layer1       = BatchNormalization()(layer1)\n",
        "    layer1       = Activation('elu')(layer1)\n",
        "    layer1       = Dropout(dropoutRate)(layer1)\n",
        "\n",
        "    permute_dims = 2, 1, 3\n",
        "    permute1     = Permute(permute_dims)(layer1)\n",
        "\n",
        "    layer2       = Conv2D(4, kernels[0], padding = 'same',\n",
        "                            kernel_regularizer=l1_l2(l1=0.0, l2=regRate),\n",
        "                            strides = strides)(permute1)\n",
        "    layer2       = BatchNormalization()(layer2)\n",
        "    layer2       = Activation('elu')(layer2)\n",
        "    layer2       = Dropout(dropoutRate)(layer2)\n",
        "\n",
        "    layer3       = Conv2D(4, kernels[1], padding = 'same',\n",
        "                            kernel_regularizer=l1_l2(l1=0.0, l2=regRate),\n",
        "                            strides = strides)(layer2)\n",
        "    layer3       = BatchNormalization()(layer3)\n",
        "    layer3       = Activation('elu')(layer3)\n",
        "    layer3       = Dropout(dropoutRate)(layer3)\n",
        "\n",
        "    flatten      = Flatten(name = 'flatten')(layer3)\n",
        "\n",
        "    dense        = Dense(nb_classes, name = 'dense')(flatten)\n",
        "    softmax      = Activation('softmax', name = 'softmax')(dense)\n",
        "\n",
        "    return Model(inputs=input_main, outputs=softmax)\n",
        "\n",
        "\n",
        "\n",
        "def DeepConvNet(nb_classes, Chans = 64, Samples = 256,\n",
        "                dropoutRate = 0.5):\n",
        "    \"\"\" Keras implementation of the Deep Convolutional Network as described in\n",
        "    Schirrmeister et. al. (2017), Human Brain Mapping.\n",
        "\n",
        "    This implementation assumes the input is a 2-second EEG signal sampled at\n",
        "    128Hz, as opposed to signals sampled at 250Hz as described in the original\n",
        "    paper. We also perform temporal convolutions of length (1, 5) as opposed\n",
        "    to (1, 10) due to this sampling rate difference.\n",
        "\n",
        "    Note that we use the max_norm constraint on all convolutional layers, as\n",
        "    well as the classification layer. We also change the defaults for the\n",
        "    BatchNormalization layer. We used this based on a personal communication\n",
        "    with the original authors.\n",
        "\n",
        "                      ours        original paper\n",
        "    pool_size        1, 2        1, 3\n",
        "    strides          1, 2        1, 3\n",
        "    conv filters     1, 5        1, 10\n",
        "\n",
        "    Note that this implementation has not been verified by the original\n",
        "    authors.\n",
        "\n",
        "    \"\"\"\n",
        "\n",
        "    # start the model\n",
        "    input_main   = Input((Chans, Samples, 1))\n",
        "    block1       = Conv2D(25, (1, 5),\n",
        "                                 input_shape=(Chans, Samples, 1),\n",
        "                                 kernel_constraint = max_norm(2., axis=(0,1,2)))(input_main)\n",
        "    block1       = Conv2D(25, (Chans, 1),\n",
        "                                 kernel_constraint = max_norm(2., axis=(0,1,2)))(block1)\n",
        "    block1       = BatchNormalization(epsilon=1e-05, momentum=0.9)(block1)\n",
        "    block1       = Activation('elu')(block1)\n",
        "    block1       = MaxPooling2D(pool_size=(1, 2), strides=(1, 2))(block1)\n",
        "    block1       = Dropout(dropoutRate)(block1)\n",
        "\n",
        "    block2       = Conv2D(50, (1, 5),\n",
        "                                 kernel_constraint = max_norm(2., axis=(0,1,2)))(block1)\n",
        "    block2       = BatchNormalization(epsilon=1e-05, momentum=0.9)(block2)\n",
        "    block2       = Activation('elu')(block2)\n",
        "    block2       = MaxPooling2D(pool_size=(1, 2), strides=(1, 2))(block2)\n",
        "    block2       = Dropout(dropoutRate)(block2)\n",
        "\n",
        "    block3       = Conv2D(100, (1, 5),\n",
        "                                 kernel_constraint = max_norm(2., axis=(0,1,2)))(block2)\n",
        "    block3       = BatchNormalization(epsilon=1e-05, momentum=0.9)(block3)\n",
        "    block3       = Activation('elu')(block3)\n",
        "    block3       = MaxPooling2D(pool_size=(1, 2), strides=(1, 2))(block3)\n",
        "    block3       = Dropout(dropoutRate)(block3)\n",
        "\n",
        "    block4       = Conv2D(200, (1, 5),\n",
        "                                 kernel_constraint = max_norm(2., axis=(0,1,2)))(block3)\n",
        "    block4       = BatchNormalization(epsilon=1e-05, momentum=0.9)(block4)\n",
        "    block4       = Activation('elu')(block4)\n",
        "    block4       = MaxPooling2D(pool_size=(1, 2), strides=(1, 2))(block4)\n",
        "    block4       = Dropout(dropoutRate)(block4)\n",
        "\n",
        "    flatten      = Flatten()(block4)\n",
        "\n",
        "    dense        = Dense(nb_classes, kernel_constraint = max_norm(0.5))(flatten)\n",
        "    softmax      = Activation('softmax')(dense)\n",
        "\n",
        "    return Model(inputs=input_main, outputs=softmax)\n",
        "\n",
        "\n",
        "# need these for ShallowConvNet\n",
        "def square(x):\n",
        "    return K.square(x)\n",
        "\n",
        "def log(x):\n",
        "    return K.log(K.clip(x, min_value = 1e-7, max_value = 10000))\n",
        "\n",
        "\n",
        "def ShallowConvNet(nb_classes, Chans = 64, Samples = 128, dropoutRate = 0.5):\n",
        "    \"\"\" Keras implementation of the Shallow Convolutional Network as described\n",
        "    in Schirrmeister et. al. (2017), Human Brain Mapping.\n",
        "\n",
        "    Assumes the input is a 2-second EEG signal sampled at 128Hz. Note that in\n",
        "    the original paper, they do temporal convolutions of length 25 for EEG\n",
        "    data sampled at 250Hz. We instead use length 13 since the sampling rate is\n",
        "    roughly half of the 250Hz which the paper used. The pool_size and stride\n",
        "    in later layers is also approximately half of what is used in the paper.\n",
        "\n",
        "    Note that we use the max_norm constraint on all convolutional layers, as\n",
        "    well as the classification layer. We also change the defaults for the\n",
        "    BatchNormalization layer. We used this based on a personal communication\n",
        "    with the original authors.\n",
        "\n",
        "                     ours        original paper\n",
        "    pool_size        1, 35       1, 75\n",
        "    strides          1, 7        1, 15\n",
        "    conv filters     1, 13       1, 25\n",
        "\n",
        "    Note that this implementation has not been verified by the original\n",
        "    authors. We do note that this implementation reproduces the results in the\n",
        "    original paper with minor deviations.\n",
        "    \"\"\"\n",
        "\n",
        "    # start the model\n",
        "    input_main   = Input((Chans, Samples, 1))\n",
        "    block1       = Conv2D(40, (1, 13),\n",
        "                                 input_shape=(Chans, Samples, 1),\n",
        "                                 kernel_constraint = max_norm(2., axis=(0,1,2)))(input_main)\n",
        "    block1       = Conv2D(40, (Chans, 1), use_bias=False,\n",
        "                          kernel_constraint = max_norm(2., axis=(0,1,2)))(block1)\n",
        "    block1       = BatchNormalization(epsilon=1e-05, momentum=0.9)(block1)\n",
        "    block1       = Activation(square)(block1)\n",
        "    block1       = AveragePooling2D(pool_size=(1, 35), strides=(1, 7))(block1)\n",
        "    block1       = Activation(log)(block1)\n",
        "    block1       = Dropout(dropoutRate)(block1)\n",
        "    flatten      = Flatten()(block1)\n",
        "    dense        = Dense(nb_classes, kernel_constraint = max_norm(0.5))(flatten)\n",
        "    softmax      = Activation('softmax')(dense)\n",
        "\n",
        "    return Model(inputs=input_main, outputs=softmax)\n",
        "\n"
      ],
      "metadata": {
        "id": "25JopfqgwYku"
      },
      "execution_count": 11,
      "outputs": []
    },
    {
      "cell_type": "code",
      "source": [
        "checkpoint_path=\"weights.best.hdf5\"\n",
        "check_point = tf.keras.callbacks.ModelCheckpoint(filepath=checkpoint_path,save_best_only=True,monitor='val_accuracy' ,save_weights_only=True, verbose=1)"
      ],
      "metadata": {
        "id": "MbKdXXabzVeV"
      },
      "execution_count": 12,
      "outputs": []
    },
    {
      "cell_type": "code",
      "source": [
        "num_classes =6\n",
        "kernLength=10\n",
        "model =EEGNet(nb_classes=num_classes, Chans = X_train.shape[1], Samples = X_train.shape[2],kernLength=10)\n",
        "#model.compile(loss = 'categorical_crossentropy', optimizer = 'adam',  metrics=['accuracy'])\n",
        "optim=tf.keras.optimizers.SGD(learning_rate=0.01)\n",
        "model.compile(optimizer=optim,loss='categorical_crossentropy',metrics=['accuracy'])\n",
        "model.fit(X_train,y_train,\n",
        "                    epochs=50,\n",
        "                    validation_data=(X_test,y_test),\n",
        "                    batch_size=16,\n",
        "                    verbose=1,callbacks=[check_point])"
      ],
      "metadata": {
        "colab": {
          "base_uri": "https://localhost:8080/",
          "height": 1000
        },
        "id": "qBTNhNiP0_OJ",
        "outputId": "263829f8-415c-4667-f698-05146ae15639"
      },
      "execution_count": 13,
      "outputs": [
        {
          "output_type": "stream",
          "name": "stdout",
          "text": [
            "Epoch 1/50\n",
            "17/17 [==============================] - ETA: 0s - loss: 1.8904 - accuracy: 0.1519\n",
            "Epoch 1: val_accuracy improved from -inf to 0.23333, saving model to weights.best.hdf5\n",
            "17/17 [==============================] - 43s 2s/step - loss: 1.8904 - accuracy: 0.1519 - val_loss: 1.7847 - val_accuracy: 0.2333\n",
            "Epoch 2/50\n",
            "17/17 [==============================] - ETA: 0s - loss: 1.6954 - accuracy: 0.3037\n",
            "Epoch 2: val_accuracy did not improve from 0.23333\n",
            "17/17 [==============================] - 40s 2s/step - loss: 1.6954 - accuracy: 0.3037 - val_loss: 1.7848 - val_accuracy: 0.1667\n",
            "Epoch 3/50\n",
            "17/17 [==============================] - ETA: 0s - loss: 1.5836 - accuracy: 0.3815\n",
            "Epoch 3: val_accuracy did not improve from 0.23333\n",
            "17/17 [==============================] - 29s 2s/step - loss: 1.5836 - accuracy: 0.3815 - val_loss: 1.7848 - val_accuracy: 0.2000\n",
            "Epoch 4/50\n",
            "17/17 [==============================] - ETA: 0s - loss: 1.5288 - accuracy: 0.3926\n",
            "Epoch 4: val_accuracy did not improve from 0.23333\n",
            "17/17 [==============================] - 21s 1s/step - loss: 1.5288 - accuracy: 0.3926 - val_loss: 1.7946 - val_accuracy: 0.1667\n",
            "Epoch 5/50\n",
            "17/17 [==============================] - ETA: 0s - loss: 1.4819 - accuracy: 0.4667\n",
            "Epoch 5: val_accuracy did not improve from 0.23333\n",
            "17/17 [==============================] - 21s 1s/step - loss: 1.4819 - accuracy: 0.4667 - val_loss: 1.7912 - val_accuracy: 0.2000\n",
            "Epoch 6/50\n",
            "17/17 [==============================] - ETA: 0s - loss: 1.4326 - accuracy: 0.4963\n",
            "Epoch 6: val_accuracy did not improve from 0.23333\n",
            "17/17 [==============================] - 20s 1s/step - loss: 1.4326 - accuracy: 0.4963 - val_loss: 1.7849 - val_accuracy: 0.2000\n",
            "Epoch 7/50\n",
            "17/17 [==============================] - ETA: 0s - loss: 1.4208 - accuracy: 0.5037\n",
            "Epoch 7: val_accuracy improved from 0.23333 to 0.30000, saving model to weights.best.hdf5\n",
            "17/17 [==============================] - 19s 1s/step - loss: 1.4208 - accuracy: 0.5037 - val_loss: 1.7856 - val_accuracy: 0.3000\n",
            "Epoch 8/50\n",
            "17/17 [==============================] - ETA: 0s - loss: 1.3923 - accuracy: 0.5222\n",
            "Epoch 8: val_accuracy did not improve from 0.30000\n",
            "17/17 [==============================] - 26s 2s/step - loss: 1.3923 - accuracy: 0.5222 - val_loss: 1.8129 - val_accuracy: 0.1333\n",
            "Epoch 9/50\n",
            "17/17 [==============================] - ETA: 0s - loss: 1.3957 - accuracy: 0.5296\n",
            "Epoch 9: val_accuracy did not improve from 0.30000\n",
            "17/17 [==============================] - 19s 1s/step - loss: 1.3957 - accuracy: 0.5296 - val_loss: 1.7862 - val_accuracy: 0.2000\n",
            "Epoch 10/50\n",
            "17/17 [==============================] - ETA: 0s - loss: 1.3828 - accuracy: 0.5704\n",
            "Epoch 10: val_accuracy did not improve from 0.30000\n",
            "17/17 [==============================] - 20s 1s/step - loss: 1.3828 - accuracy: 0.5704 - val_loss: 1.8012 - val_accuracy: 0.1667\n",
            "Epoch 11/50\n",
            "17/17 [==============================] - ETA: 0s - loss: 1.3874 - accuracy: 0.5519\n",
            "Epoch 11: val_accuracy did not improve from 0.30000\n",
            "17/17 [==============================] - 20s 1s/step - loss: 1.3874 - accuracy: 0.5519 - val_loss: 1.7973 - val_accuracy: 0.1667\n",
            "Epoch 12/50\n",
            "17/17 [==============================] - ETA: 0s - loss: 1.4027 - accuracy: 0.4926\n",
            "Epoch 12: val_accuracy did not improve from 0.30000\n",
            "17/17 [==============================] - 19s 1s/step - loss: 1.4027 - accuracy: 0.4926 - val_loss: 1.8037 - val_accuracy: 0.2000\n",
            "Epoch 13/50\n",
            "17/17 [==============================] - ETA: 0s - loss: 1.3746 - accuracy: 0.5481\n",
            "Epoch 13: val_accuracy did not improve from 0.30000\n",
            "17/17 [==============================] - 19s 1s/step - loss: 1.3746 - accuracy: 0.5481 - val_loss: 1.7927 - val_accuracy: 0.2333\n",
            "Epoch 14/50\n",
            "17/17 [==============================] - ETA: 0s - loss: 1.3718 - accuracy: 0.5111\n",
            "Epoch 14: val_accuracy did not improve from 0.30000\n",
            "17/17 [==============================] - 22s 1s/step - loss: 1.3718 - accuracy: 0.5111 - val_loss: 1.7972 - val_accuracy: 0.1667\n",
            "Epoch 15/50\n",
            "17/17 [==============================] - ETA: 0s - loss: 1.3445 - accuracy: 0.5926\n",
            "Epoch 15: val_accuracy did not improve from 0.30000\n",
            "17/17 [==============================] - 22s 1s/step - loss: 1.3445 - accuracy: 0.5926 - val_loss: 1.7946 - val_accuracy: 0.1667\n",
            "Epoch 16/50\n",
            "17/17 [==============================] - ETA: 0s - loss: 1.3860 - accuracy: 0.5519\n",
            "Epoch 16: val_accuracy did not improve from 0.30000\n",
            "17/17 [==============================] - 19s 1s/step - loss: 1.3860 - accuracy: 0.5519 - val_loss: 1.7802 - val_accuracy: 0.2333\n",
            "Epoch 17/50\n",
            "17/17 [==============================] - ETA: 0s - loss: 1.3339 - accuracy: 0.5556\n",
            "Epoch 17: val_accuracy did not improve from 0.30000\n",
            "17/17 [==============================] - 19s 1s/step - loss: 1.3339 - accuracy: 0.5556 - val_loss: 1.8163 - val_accuracy: 0.2000\n",
            "Epoch 18/50\n",
            "17/17 [==============================] - ETA: 0s - loss: 1.3268 - accuracy: 0.5926\n",
            "Epoch 18: val_accuracy did not improve from 0.30000\n",
            "17/17 [==============================] - 22s 1s/step - loss: 1.3268 - accuracy: 0.5926 - val_loss: 1.8326 - val_accuracy: 0.2667\n",
            "Epoch 19/50\n",
            "17/17 [==============================] - ETA: 0s - loss: 1.3232 - accuracy: 0.5630\n",
            "Epoch 19: val_accuracy did not improve from 0.30000\n",
            "17/17 [==============================] - 20s 1s/step - loss: 1.3232 - accuracy: 0.5630 - val_loss: 1.8354 - val_accuracy: 0.2333\n",
            "Epoch 20/50\n",
            "17/17 [==============================] - ETA: 0s - loss: 1.3079 - accuracy: 0.5741\n",
            "Epoch 20: val_accuracy did not improve from 0.30000\n",
            "17/17 [==============================] - 19s 1s/step - loss: 1.3079 - accuracy: 0.5741 - val_loss: 1.8260 - val_accuracy: 0.2667\n",
            "Epoch 21/50\n",
            "17/17 [==============================] - ETA: 0s - loss: 1.3008 - accuracy: 0.6259\n",
            "Epoch 21: val_accuracy did not improve from 0.30000\n",
            "17/17 [==============================] - 19s 1s/step - loss: 1.3008 - accuracy: 0.6259 - val_loss: 1.8441 - val_accuracy: 0.1000\n",
            "Epoch 22/50\n",
            "17/17 [==============================] - ETA: 0s - loss: 1.2977 - accuracy: 0.5741\n",
            "Epoch 22: val_accuracy did not improve from 0.30000\n",
            "17/17 [==============================] - 21s 1s/step - loss: 1.2977 - accuracy: 0.5741 - val_loss: 1.8405 - val_accuracy: 0.1667\n",
            "Epoch 23/50\n",
            "17/17 [==============================] - ETA: 0s - loss: 1.2967 - accuracy: 0.6000\n",
            "Epoch 23: val_accuracy did not improve from 0.30000\n",
            "17/17 [==============================] - 21s 1s/step - loss: 1.2967 - accuracy: 0.6000 - val_loss: 1.8891 - val_accuracy: 0.2000\n",
            "Epoch 24/50\n",
            " 3/17 [====>.........................] - ETA: 28s - loss: 1.2352 - accuracy: 0.5625"
          ]
        },
        {
          "output_type": "error",
          "ename": "KeyboardInterrupt",
          "evalue": "ignored",
          "traceback": [
            "\u001b[0;31m---------------------------------------------------------------------------\u001b[0m",
            "\u001b[0;31mKeyboardInterrupt\u001b[0m                         Traceback (most recent call last)",
            "\u001b[0;32m<ipython-input-13-416dfebe3d8f>\u001b[0m in \u001b[0;36m<cell line: 7>\u001b[0;34m()\u001b[0m\n\u001b[1;32m      5\u001b[0m \u001b[0moptim\u001b[0m\u001b[0;34m=\u001b[0m\u001b[0mtf\u001b[0m\u001b[0;34m.\u001b[0m\u001b[0mkeras\u001b[0m\u001b[0;34m.\u001b[0m\u001b[0moptimizers\u001b[0m\u001b[0;34m.\u001b[0m\u001b[0mSGD\u001b[0m\u001b[0;34m(\u001b[0m\u001b[0mlearning_rate\u001b[0m\u001b[0;34m=\u001b[0m\u001b[0;36m0.01\u001b[0m\u001b[0;34m)\u001b[0m\u001b[0;34m\u001b[0m\u001b[0;34m\u001b[0m\u001b[0m\n\u001b[1;32m      6\u001b[0m \u001b[0mmodel\u001b[0m\u001b[0;34m.\u001b[0m\u001b[0mcompile\u001b[0m\u001b[0;34m(\u001b[0m\u001b[0moptimizer\u001b[0m\u001b[0;34m=\u001b[0m\u001b[0moptim\u001b[0m\u001b[0;34m,\u001b[0m\u001b[0mloss\u001b[0m\u001b[0;34m=\u001b[0m\u001b[0;34m'categorical_crossentropy'\u001b[0m\u001b[0;34m,\u001b[0m\u001b[0mmetrics\u001b[0m\u001b[0;34m=\u001b[0m\u001b[0;34m[\u001b[0m\u001b[0;34m'accuracy'\u001b[0m\u001b[0;34m]\u001b[0m\u001b[0;34m)\u001b[0m\u001b[0;34m\u001b[0m\u001b[0;34m\u001b[0m\u001b[0m\n\u001b[0;32m----> 7\u001b[0;31m model.fit(X_train,y_train,\n\u001b[0m\u001b[1;32m      8\u001b[0m                     \u001b[0mepochs\u001b[0m\u001b[0;34m=\u001b[0m\u001b[0;36m50\u001b[0m\u001b[0;34m,\u001b[0m\u001b[0;34m\u001b[0m\u001b[0;34m\u001b[0m\u001b[0m\n\u001b[1;32m      9\u001b[0m                     \u001b[0mvalidation_data\u001b[0m\u001b[0;34m=\u001b[0m\u001b[0;34m(\u001b[0m\u001b[0mX_test\u001b[0m\u001b[0;34m,\u001b[0m\u001b[0my_test\u001b[0m\u001b[0;34m)\u001b[0m\u001b[0;34m,\u001b[0m\u001b[0;34m\u001b[0m\u001b[0;34m\u001b[0m\u001b[0m\n",
            "\u001b[0;32m/usr/local/lib/python3.10/dist-packages/keras/utils/traceback_utils.py\u001b[0m in \u001b[0;36merror_handler\u001b[0;34m(*args, **kwargs)\u001b[0m\n\u001b[1;32m     63\u001b[0m         \u001b[0mfiltered_tb\u001b[0m \u001b[0;34m=\u001b[0m \u001b[0;32mNone\u001b[0m\u001b[0;34m\u001b[0m\u001b[0;34m\u001b[0m\u001b[0m\n\u001b[1;32m     64\u001b[0m         \u001b[0;32mtry\u001b[0m\u001b[0;34m:\u001b[0m\u001b[0;34m\u001b[0m\u001b[0;34m\u001b[0m\u001b[0m\n\u001b[0;32m---> 65\u001b[0;31m             \u001b[0;32mreturn\u001b[0m \u001b[0mfn\u001b[0m\u001b[0;34m(\u001b[0m\u001b[0;34m*\u001b[0m\u001b[0margs\u001b[0m\u001b[0;34m,\u001b[0m \u001b[0;34m**\u001b[0m\u001b[0mkwargs\u001b[0m\u001b[0;34m)\u001b[0m\u001b[0;34m\u001b[0m\u001b[0;34m\u001b[0m\u001b[0m\n\u001b[0m\u001b[1;32m     66\u001b[0m         \u001b[0;32mexcept\u001b[0m \u001b[0mException\u001b[0m \u001b[0;32mas\u001b[0m \u001b[0me\u001b[0m\u001b[0;34m:\u001b[0m\u001b[0;34m\u001b[0m\u001b[0;34m\u001b[0m\u001b[0m\n\u001b[1;32m     67\u001b[0m             \u001b[0mfiltered_tb\u001b[0m \u001b[0;34m=\u001b[0m \u001b[0m_process_traceback_frames\u001b[0m\u001b[0;34m(\u001b[0m\u001b[0me\u001b[0m\u001b[0;34m.\u001b[0m\u001b[0m__traceback__\u001b[0m\u001b[0;34m)\u001b[0m\u001b[0;34m\u001b[0m\u001b[0;34m\u001b[0m\u001b[0m\n",
            "\u001b[0;32m/usr/local/lib/python3.10/dist-packages/keras/engine/training.py\u001b[0m in \u001b[0;36mfit\u001b[0;34m(self, x, y, batch_size, epochs, verbose, callbacks, validation_split, validation_data, shuffle, class_weight, sample_weight, initial_epoch, steps_per_epoch, validation_steps, validation_batch_size, validation_freq, max_queue_size, workers, use_multiprocessing)\u001b[0m\n\u001b[1;32m   1683\u001b[0m                         ):\n\u001b[1;32m   1684\u001b[0m                             \u001b[0mcallbacks\u001b[0m\u001b[0;34m.\u001b[0m\u001b[0mon_train_batch_begin\u001b[0m\u001b[0;34m(\u001b[0m\u001b[0mstep\u001b[0m\u001b[0;34m)\u001b[0m\u001b[0;34m\u001b[0m\u001b[0;34m\u001b[0m\u001b[0m\n\u001b[0;32m-> 1685\u001b[0;31m                             \u001b[0mtmp_logs\u001b[0m \u001b[0;34m=\u001b[0m \u001b[0mself\u001b[0m\u001b[0;34m.\u001b[0m\u001b[0mtrain_function\u001b[0m\u001b[0;34m(\u001b[0m\u001b[0miterator\u001b[0m\u001b[0;34m)\u001b[0m\u001b[0;34m\u001b[0m\u001b[0;34m\u001b[0m\u001b[0m\n\u001b[0m\u001b[1;32m   1686\u001b[0m                             \u001b[0;32mif\u001b[0m \u001b[0mdata_handler\u001b[0m\u001b[0;34m.\u001b[0m\u001b[0mshould_sync\u001b[0m\u001b[0;34m:\u001b[0m\u001b[0;34m\u001b[0m\u001b[0;34m\u001b[0m\u001b[0m\n\u001b[1;32m   1687\u001b[0m                                 \u001b[0mcontext\u001b[0m\u001b[0;34m.\u001b[0m\u001b[0masync_wait\u001b[0m\u001b[0;34m(\u001b[0m\u001b[0;34m)\u001b[0m\u001b[0;34m\u001b[0m\u001b[0;34m\u001b[0m\u001b[0m\n",
            "\u001b[0;32m/usr/local/lib/python3.10/dist-packages/tensorflow/python/util/traceback_utils.py\u001b[0m in \u001b[0;36merror_handler\u001b[0;34m(*args, **kwargs)\u001b[0m\n\u001b[1;32m    148\u001b[0m     \u001b[0mfiltered_tb\u001b[0m \u001b[0;34m=\u001b[0m \u001b[0;32mNone\u001b[0m\u001b[0;34m\u001b[0m\u001b[0;34m\u001b[0m\u001b[0m\n\u001b[1;32m    149\u001b[0m     \u001b[0;32mtry\u001b[0m\u001b[0;34m:\u001b[0m\u001b[0;34m\u001b[0m\u001b[0;34m\u001b[0m\u001b[0m\n\u001b[0;32m--> 150\u001b[0;31m       \u001b[0;32mreturn\u001b[0m \u001b[0mfn\u001b[0m\u001b[0;34m(\u001b[0m\u001b[0;34m*\u001b[0m\u001b[0margs\u001b[0m\u001b[0;34m,\u001b[0m \u001b[0;34m**\u001b[0m\u001b[0mkwargs\u001b[0m\u001b[0;34m)\u001b[0m\u001b[0;34m\u001b[0m\u001b[0;34m\u001b[0m\u001b[0m\n\u001b[0m\u001b[1;32m    151\u001b[0m     \u001b[0;32mexcept\u001b[0m \u001b[0mException\u001b[0m \u001b[0;32mas\u001b[0m \u001b[0me\u001b[0m\u001b[0;34m:\u001b[0m\u001b[0;34m\u001b[0m\u001b[0;34m\u001b[0m\u001b[0m\n\u001b[1;32m    152\u001b[0m       \u001b[0mfiltered_tb\u001b[0m \u001b[0;34m=\u001b[0m \u001b[0m_process_traceback_frames\u001b[0m\u001b[0;34m(\u001b[0m\u001b[0me\u001b[0m\u001b[0;34m.\u001b[0m\u001b[0m__traceback__\u001b[0m\u001b[0;34m)\u001b[0m\u001b[0;34m\u001b[0m\u001b[0;34m\u001b[0m\u001b[0m\n",
            "\u001b[0;32m/usr/local/lib/python3.10/dist-packages/tensorflow/python/eager/polymorphic_function/polymorphic_function.py\u001b[0m in \u001b[0;36m__call__\u001b[0;34m(self, *args, **kwds)\u001b[0m\n\u001b[1;32m    892\u001b[0m \u001b[0;34m\u001b[0m\u001b[0m\n\u001b[1;32m    893\u001b[0m       \u001b[0;32mwith\u001b[0m \u001b[0mOptionalXlaContext\u001b[0m\u001b[0;34m(\u001b[0m\u001b[0mself\u001b[0m\u001b[0;34m.\u001b[0m\u001b[0m_jit_compile\u001b[0m\u001b[0;34m)\u001b[0m\u001b[0;34m:\u001b[0m\u001b[0;34m\u001b[0m\u001b[0;34m\u001b[0m\u001b[0m\n\u001b[0;32m--> 894\u001b[0;31m         \u001b[0mresult\u001b[0m \u001b[0;34m=\u001b[0m \u001b[0mself\u001b[0m\u001b[0;34m.\u001b[0m\u001b[0m_call\u001b[0m\u001b[0;34m(\u001b[0m\u001b[0;34m*\u001b[0m\u001b[0margs\u001b[0m\u001b[0;34m,\u001b[0m \u001b[0;34m**\u001b[0m\u001b[0mkwds\u001b[0m\u001b[0;34m)\u001b[0m\u001b[0;34m\u001b[0m\u001b[0;34m\u001b[0m\u001b[0m\n\u001b[0m\u001b[1;32m    895\u001b[0m \u001b[0;34m\u001b[0m\u001b[0m\n\u001b[1;32m    896\u001b[0m       \u001b[0mnew_tracing_count\u001b[0m \u001b[0;34m=\u001b[0m \u001b[0mself\u001b[0m\u001b[0;34m.\u001b[0m\u001b[0mexperimental_get_tracing_count\u001b[0m\u001b[0;34m(\u001b[0m\u001b[0;34m)\u001b[0m\u001b[0;34m\u001b[0m\u001b[0;34m\u001b[0m\u001b[0m\n",
            "\u001b[0;32m/usr/local/lib/python3.10/dist-packages/tensorflow/python/eager/polymorphic_function/polymorphic_function.py\u001b[0m in \u001b[0;36m_call\u001b[0;34m(self, *args, **kwds)\u001b[0m\n\u001b[1;32m    924\u001b[0m       \u001b[0;31m# In this case we have created variables on the first call, so we run the\u001b[0m\u001b[0;34m\u001b[0m\u001b[0;34m\u001b[0m\u001b[0m\n\u001b[1;32m    925\u001b[0m       \u001b[0;31m# defunned version which is guaranteed to never create variables.\u001b[0m\u001b[0;34m\u001b[0m\u001b[0;34m\u001b[0m\u001b[0m\n\u001b[0;32m--> 926\u001b[0;31m       \u001b[0;32mreturn\u001b[0m \u001b[0mself\u001b[0m\u001b[0;34m.\u001b[0m\u001b[0m_no_variable_creation_fn\u001b[0m\u001b[0;34m(\u001b[0m\u001b[0;34m*\u001b[0m\u001b[0margs\u001b[0m\u001b[0;34m,\u001b[0m \u001b[0;34m**\u001b[0m\u001b[0mkwds\u001b[0m\u001b[0;34m)\u001b[0m  \u001b[0;31m# pylint: disable=not-callable\u001b[0m\u001b[0;34m\u001b[0m\u001b[0;34m\u001b[0m\u001b[0m\n\u001b[0m\u001b[1;32m    927\u001b[0m     \u001b[0;32melif\u001b[0m \u001b[0mself\u001b[0m\u001b[0;34m.\u001b[0m\u001b[0m_variable_creation_fn\u001b[0m \u001b[0;32mis\u001b[0m \u001b[0;32mnot\u001b[0m \u001b[0;32mNone\u001b[0m\u001b[0;34m:\u001b[0m\u001b[0;34m\u001b[0m\u001b[0;34m\u001b[0m\u001b[0m\n\u001b[1;32m    928\u001b[0m       \u001b[0;31m# Release the lock early so that multiple threads can perform the call\u001b[0m\u001b[0;34m\u001b[0m\u001b[0;34m\u001b[0m\u001b[0m\n",
            "\u001b[0;32m/usr/local/lib/python3.10/dist-packages/tensorflow/python/eager/polymorphic_function/tracing_compiler.py\u001b[0m in \u001b[0;36m__call__\u001b[0;34m(self, *args, **kwargs)\u001b[0m\n\u001b[1;32m    141\u001b[0m       (concrete_function,\n\u001b[1;32m    142\u001b[0m        filtered_flat_args) = self._maybe_define_function(args, kwargs)\n\u001b[0;32m--> 143\u001b[0;31m     return concrete_function._call_flat(\n\u001b[0m\u001b[1;32m    144\u001b[0m         filtered_flat_args, captured_inputs=concrete_function.captured_inputs)  # pylint: disable=protected-access\n\u001b[1;32m    145\u001b[0m \u001b[0;34m\u001b[0m\u001b[0m\n",
            "\u001b[0;32m/usr/local/lib/python3.10/dist-packages/tensorflow/python/eager/polymorphic_function/monomorphic_function.py\u001b[0m in \u001b[0;36m_call_flat\u001b[0;34m(self, args, captured_inputs, cancellation_manager)\u001b[0m\n\u001b[1;32m   1755\u001b[0m         and executing_eagerly):\n\u001b[1;32m   1756\u001b[0m       \u001b[0;31m# No tape is watching; skip to running the function.\u001b[0m\u001b[0;34m\u001b[0m\u001b[0;34m\u001b[0m\u001b[0m\n\u001b[0;32m-> 1757\u001b[0;31m       return self._build_call_outputs(self._inference_function.call(\n\u001b[0m\u001b[1;32m   1758\u001b[0m           ctx, args, cancellation_manager=cancellation_manager))\n\u001b[1;32m   1759\u001b[0m     forward_backward = self._select_forward_and_backward_functions(\n",
            "\u001b[0;32m/usr/local/lib/python3.10/dist-packages/tensorflow/python/eager/polymorphic_function/monomorphic_function.py\u001b[0m in \u001b[0;36mcall\u001b[0;34m(self, ctx, args, cancellation_manager)\u001b[0m\n\u001b[1;32m    379\u001b[0m       \u001b[0;32mwith\u001b[0m \u001b[0m_InterpolateFunctionError\u001b[0m\u001b[0;34m(\u001b[0m\u001b[0mself\u001b[0m\u001b[0;34m)\u001b[0m\u001b[0;34m:\u001b[0m\u001b[0;34m\u001b[0m\u001b[0;34m\u001b[0m\u001b[0m\n\u001b[1;32m    380\u001b[0m         \u001b[0;32mif\u001b[0m \u001b[0mcancellation_manager\u001b[0m \u001b[0;32mis\u001b[0m \u001b[0;32mNone\u001b[0m\u001b[0;34m:\u001b[0m\u001b[0;34m\u001b[0m\u001b[0;34m\u001b[0m\u001b[0m\n\u001b[0;32m--> 381\u001b[0;31m           outputs = execute.execute(\n\u001b[0m\u001b[1;32m    382\u001b[0m               \u001b[0mstr\u001b[0m\u001b[0;34m(\u001b[0m\u001b[0mself\u001b[0m\u001b[0;34m.\u001b[0m\u001b[0msignature\u001b[0m\u001b[0;34m.\u001b[0m\u001b[0mname\u001b[0m\u001b[0;34m)\u001b[0m\u001b[0;34m,\u001b[0m\u001b[0;34m\u001b[0m\u001b[0;34m\u001b[0m\u001b[0m\n\u001b[1;32m    383\u001b[0m               \u001b[0mnum_outputs\u001b[0m\u001b[0;34m=\u001b[0m\u001b[0mself\u001b[0m\u001b[0;34m.\u001b[0m\u001b[0m_num_outputs\u001b[0m\u001b[0;34m,\u001b[0m\u001b[0;34m\u001b[0m\u001b[0;34m\u001b[0m\u001b[0m\n",
            "\u001b[0;32m/usr/local/lib/python3.10/dist-packages/tensorflow/python/eager/execute.py\u001b[0m in \u001b[0;36mquick_execute\u001b[0;34m(op_name, num_outputs, inputs, attrs, ctx, name)\u001b[0m\n\u001b[1;32m     50\u001b[0m   \u001b[0;32mtry\u001b[0m\u001b[0;34m:\u001b[0m\u001b[0;34m\u001b[0m\u001b[0;34m\u001b[0m\u001b[0m\n\u001b[1;32m     51\u001b[0m     \u001b[0mctx\u001b[0m\u001b[0;34m.\u001b[0m\u001b[0mensure_initialized\u001b[0m\u001b[0;34m(\u001b[0m\u001b[0;34m)\u001b[0m\u001b[0;34m\u001b[0m\u001b[0;34m\u001b[0m\u001b[0m\n\u001b[0;32m---> 52\u001b[0;31m     tensors = pywrap_tfe.TFE_Py_Execute(ctx._handle, device_name, op_name,\n\u001b[0m\u001b[1;32m     53\u001b[0m                                         inputs, attrs, num_outputs)\n\u001b[1;32m     54\u001b[0m   \u001b[0;32mexcept\u001b[0m \u001b[0mcore\u001b[0m\u001b[0;34m.\u001b[0m\u001b[0m_NotOkStatusException\u001b[0m \u001b[0;32mas\u001b[0m \u001b[0me\u001b[0m\u001b[0;34m:\u001b[0m\u001b[0;34m\u001b[0m\u001b[0;34m\u001b[0m\u001b[0m\n",
            "\u001b[0;31mKeyboardInterrupt\u001b[0m: "
          ]
        }
      ]
    },
    {
      "cell_type": "code",
      "source": [
        " np.argmax(y_test, axis=1)"
      ],
      "metadata": {
        "id": "RjtN8EHMTU2e"
      },
      "execution_count": null,
      "outputs": []
    },
    {
      "cell_type": "code",
      "source": [
        "from sklearn.metrics import confusion_matrix\n",
        "from tensorflow import keras\n",
        "import matplotlib.pyplot as plt\n",
        "import seaborn as sns\n",
        "\n",
        "model.load_weights(\"/content/weights.best.hdf5\")\n",
        "y_pred = model.predict(X_test)\n",
        "y_pred = np.argmax(y_pred, axis=1)\n",
        "y_test = np.argmax(y_test, axis=1)\n",
        "cm = confusion_matrix(y_test, y_pred)\n",
        "\n",
        "plt.figure(figsize=(8, 6))\n",
        "sns.heatmap(cm, annot=True, fmt='d', cmap='Blues')\n",
        "plt.xlabel('Predicted Labels')\n",
        "plt.ylabel('True Labels')\n",
        "plt.title('Confusion Matrix')\n",
        "plt.show()\n",
        "\n",
        "\n",
        "# # Plot the confusion matrix\n",
        "# cm = confusion_matrix(y_test, y_pred_classes)\n",
        "\n",
        "# # Get class labels\n",
        "# classes = unique_labels(y_true, y_pred)\n",
        "\n",
        "# # Plot confusion matrix\n",
        "# plt.imshow(cm, interpolation='nearest', cmap=plt.cm.Blues)\n",
        "# plt.colorbar()\n",
        "# tick_marks = np.arange(len(classes))\n",
        "# plt.xticks(tick_marks, classes)\n",
        "# plt.yticks(tick_marks, classes)\n",
        "\n",
        "# # Add labels to each cell\n",
        "# thresh = cm.max() / 2.0\n",
        "# for i in range(cm.shape[0]):\n",
        "#     for j in range(cm.shape[1]):\n",
        "#         plt.text(j, i, format(cm[i, j], 'd'),\n",
        "#                  horizontalalignment=\"center\",\n",
        "#                  color=\"white\" if cm[i, j] > thresh else \"black\")\n",
        "\n",
        "# plt.xlabel('Predicted Label')\n",
        "# plt.ylabel('True Label')\n",
        "# plt.title('Confusion Matrix')\n",
        "# plt.show()"
      ],
      "metadata": {
        "id": "Q5pXPoleGlO0"
      },
      "execution_count": null,
      "outputs": []
    },
    {
      "cell_type": "code",
      "source": [
        "# import tensorflow as tf\n",
        "# from tensorflow.keras.layers import Conv1D,BatchNormalization,LeakyReLU,MaxPool1D,\\\n",
        "# GlobalAveragePooling1D,Dense,Dropout,AveragePooling1D\n",
        "# from tensorflow.keras.backend import clear_session\n",
        "# from tensorflow.keras.models import Model ,Sequential\n",
        "# from tensorflow.keras.constraints import MaxNorm\n",
        "# from keras.layers import Dense, Activation, Flatten\n",
        "# from tensorflow.keras import regularizers\n",
        "\n",
        "# def CNNModel():\n",
        "\n",
        "#     clear_session()\n",
        "#     model_m =Sequential()\n",
        "\n",
        "#     model_m.add(Dropout(0.50, input_shape=(X_train.shape[1],X_train.shape[-1])))\n",
        "#     model_m.add(Conv1D(128, 4, kernel_constraint = MaxNorm(1.),padding = 'same'))\n",
        "#     model_m.add(Conv1D(128, 4, kernel_constraint = MaxNorm(1.),padding = 'same',))\n",
        "#     model_m.add(BatchNormalization(axis = -1))\n",
        "#     model_m.add(Activation(\"relu\"))\n",
        "#     model_m.add(MaxPool1D(2))\n",
        "#     model_m.add(Dropout(0.50))\n",
        "#     model_m.add(Conv1D(128, 10, kernel_constraint = MaxNorm(1.),padding = 'same'))\n",
        "#     model_m.add(Conv1D(128, 10, kernel_constraint = MaxNorm(1.),padding = 'same'))\n",
        "#     model_m.add(BatchNormalization(axis=-1))\n",
        "#     model_m.add(Activation(\"relu\"))\n",
        "#     model_m.add(MaxPool1D(10))\n",
        "#     model_m.add(Flatten())\n",
        "#     model_m.add(Dropout(0.50))\n",
        "#     model_m.add(Dense(64, kernel_regularizer = regularizers.l1_l2(l1=0, l2=1e-5), activation = 'relu', kernel_constraint = MaxNorm(1.)))\n",
        "#     model_m.add(Dense(6, kernel_regularizer = regularizers.l1_l2(l1=0, l2=1e-5),activation = 'softmax',kernel_constraint = MaxNorm(1.)))\n",
        "\n",
        "#     return model_m\n",
        "\n",
        "# model.summary()"
      ],
      "metadata": {
        "execution": {
          "iopub.status.busy": "2023-02-24T16:30:17.706466Z",
          "iopub.execute_input": "2023-02-24T16:30:17.706941Z",
          "iopub.status.idle": "2023-02-24T16:30:17.717039Z",
          "shell.execute_reply.started": "2023-02-24T16:30:17.706903Z",
          "shell.execute_reply": "2023-02-24T16:30:17.716394Z"
        },
        "trusted": true,
        "id": "b0kwC5AMm5b8"
      },
      "execution_count": null,
      "outputs": []
    },
    {
      "cell_type": "code",
      "source": [
        "# model=CNNModel()\n",
        "# optim=tf.keras.optimizers.SGD(learning_rate=0.01) #SGD #reomve rest #shuffle  #classes one by one\n",
        "# #model_m.compile(loss = \"binary_crossentropy\", optimizer = adam(lr = 0.001), metrics = [\"acc\"])\n",
        "# model.compile(optimizer =optim,loss='categorical_crossentropy',metrics=['accuracy'])\n",
        "\n",
        "# Epochs = 50\n",
        "\n",
        "# history = model.fit(X_train,y_train,\n",
        "#                     epochs=Epochs,\n",
        "#                     validation_data=(X_test,y_test),\n",
        "#                     batch_size=32,\n",
        "#                     verbose=1)"
      ],
      "metadata": {
        "execution": {
          "iopub.status.busy": "2023-02-24T16:30:17.717955Z",
          "iopub.execute_input": "2023-02-24T16:30:17.718708Z",
          "iopub.status.idle": "2023-02-24T16:37:54.172888Z",
          "shell.execute_reply.started": "2023-02-24T16:30:17.718678Z",
          "shell.execute_reply": "2023-02-24T16:37:54.171982Z"
        },
        "trusted": true,
        "id": "m1F4DIGum5b8"
      },
      "execution_count": null,
      "outputs": []
    },
    {
      "cell_type": "code",
      "source": [
        "# history.history.keys()"
      ],
      "metadata": {
        "execution": {
          "iopub.status.busy": "2023-02-24T16:37:54.174049Z",
          "iopub.execute_input": "2023-02-24T16:37:54.174345Z",
          "iopub.status.idle": "2023-02-24T16:37:54.181463Z",
          "shell.execute_reply.started": "2023-02-24T16:37:54.174318Z",
          "shell.execute_reply": "2023-02-24T16:37:54.180580Z"
        },
        "trusted": true,
        "id": "yhvxmsrUm5b9"
      },
      "execution_count": null,
      "outputs": []
    },
    {
      "cell_type": "code",
      "source": [
        "#doctor\n",
        "# training_accuracy = history.history['accuracy']\n",
        "# validation_accuracy = history.history['val_accuracy']\n",
        "\n",
        "# training_loss = history.history['loss']\n",
        "# validation_loss = history.history['val_loss']\n",
        "\n",
        "# epochs_range=range(Epochs)\n",
        "\n",
        "# plt.figure(figsize=(8, 8))\n",
        "# plt.subplot(1, 2, 1)\n",
        "# plt.plot(epochs_range, training_accuracy, label='Training Accuracy')\n",
        "# plt.plot(epochs_range, validation_accuracy, label='Validation Accuracy')\n",
        "# plt.legend(loc='lower right')\n",
        "# plt.title('Training and Validation Accuracy')\n",
        "\n",
        "# plt.subplot(1, 2, 2)\n",
        "# plt.plot(epochs_range, training_loss, label='Training Loss')\n",
        "# plt.plot(epochs_range, validation_loss, label='Validation Loss')\n",
        "# plt.legend(loc='upper right')\n",
        "# plt.title('Training and Validation Loss')\n",
        "# plt.show()"
      ],
      "metadata": {
        "execution": {
          "iopub.status.busy": "2023-02-24T16:37:54.182858Z",
          "iopub.execute_input": "2023-02-24T16:37:54.183555Z",
          "iopub.status.idle": "2023-02-24T16:37:54.506988Z",
          "shell.execute_reply.started": "2023-02-24T16:37:54.183519Z",
          "shell.execute_reply": "2023-02-24T16:37:54.506049Z"
        },
        "trusted": true,
        "id": "tBno5lFmm5b9"
      },
      "execution_count": null,
      "outputs": []
    },
    {
      "cell_type": "code",
      "source": [
        "# model.evaluate(X_test,y_test)"
      ],
      "metadata": {
        "execution": {
          "iopub.status.busy": "2023-02-24T16:37:54.508339Z",
          "iopub.execute_input": "2023-02-24T16:37:54.508766Z",
          "iopub.status.idle": "2023-02-24T16:37:54.776257Z",
          "shell.execute_reply.started": "2023-02-24T16:37:54.508726Z",
          "shell.execute_reply": "2023-02-24T16:37:54.775555Z"
        },
        "trusted": true,
        "id": "m6H5WRkfm5b-"
      },
      "execution_count": null,
      "outputs": []
    },
    {
      "cell_type": "code",
      "source": [
        "# p=model.predict(X_test)"
      ],
      "metadata": {
        "execution": {
          "iopub.status.busy": "2023-02-24T16:37:54.781440Z",
          "iopub.execute_input": "2023-02-24T16:37:54.781751Z",
          "iopub.status.idle": "2023-02-24T16:37:55.175213Z",
          "shell.execute_reply.started": "2023-02-24T16:37:54.781723Z",
          "shell.execute_reply": "2023-02-24T16:37:55.174466Z"
        },
        "trusted": true,
        "id": "UO0UznFcm5b-"
      },
      "execution_count": null,
      "outputs": []
    },
    {
      "cell_type": "code",
      "source": [
        "# np.argmax(p[5]) , np.argmax(y_test[5])\n"
      ],
      "metadata": {
        "execution": {
          "iopub.status.busy": "2023-02-24T16:37:55.176214Z",
          "iopub.execute_input": "2023-02-24T16:37:55.176486Z",
          "iopub.status.idle": "2023-02-24T16:37:55.182808Z",
          "shell.execute_reply.started": "2023-02-24T16:37:55.176462Z",
          "shell.execute_reply": "2023-02-24T16:37:55.181898Z"
        },
        "trusted": true,
        "id": "zLSjBtYfm5b_"
      },
      "execution_count": null,
      "outputs": []
    },
    {
      "cell_type": "code",
      "source": [
        "# event_dict={\n",
        "#  'elbow flexion': 1,\n",
        "#  'elbow extension': 2,\n",
        "#  'supination': 3,\n",
        "#  'pronation': 4,\n",
        "#  'hand close': 5,\n",
        "#  'hand open': 6,\n",
        "#  'rest': 7,\n",
        "# }\n",
        "# event_dict={\n",
        "#  'Forward': 0,\n",
        "#  'Backward ': 1,\n",
        "#  'Left': 2,\n",
        "#  'Right': 3,\n",
        "#  'UP': 4,\n",
        "#  'Down': 5,\n",
        "#  'Rest': 6,\n",
        "# }\n",
        "\n",
        "# #d={1:0,2:1,3:2,4:3,5:4,6:5,7:6} previously used for preparing the labels\n",
        "\n",
        "# def get_event_name(n):\n",
        "\n",
        "#     for x,y in event_dict.items() :\n",
        "#         if y == n :\n",
        "#             return x"
      ],
      "metadata": {
        "execution": {
          "iopub.status.busy": "2023-02-24T16:37:55.184006Z",
          "iopub.execute_input": "2023-02-24T16:37:55.184297Z",
          "iopub.status.idle": "2023-02-24T16:37:55.194855Z",
          "shell.execute_reply.started": "2023-02-24T16:37:55.184272Z",
          "shell.execute_reply": "2023-02-24T16:37:55.193834Z"
        },
        "trusted": true,
        "id": "0ewb7sJpm5b_"
      },
      "execution_count": null,
      "outputs": []
    },
    {
      "cell_type": "code",
      "source": [
        "# get_event_name(np.argmax(p[5])) ,get_event_name(np.argmax(y_test[5]))"
      ],
      "metadata": {
        "scrolled": true,
        "execution": {
          "iopub.status.busy": "2023-02-24T16:37:55.196155Z",
          "iopub.execute_input": "2023-02-24T16:37:55.196409Z",
          "iopub.status.idle": "2023-02-24T16:37:55.207755Z",
          "shell.execute_reply.started": "2023-02-24T16:37:55.196387Z",
          "shell.execute_reply": "2023-02-24T16:37:55.206934Z"
        },
        "trusted": true,
        "id": "v60flI2um5b_"
      },
      "execution_count": null,
      "outputs": []
    },
    {
      "cell_type": "code",
      "source": [
        "# plt.figure(figsize=(25,25))\n",
        "# for i in range(25):\n",
        "#     plt.subplot(5,5,i+1)\n",
        "#     plt.xticks([])\n",
        "#     plt.yticks([])\n",
        "#     plt.grid(False)\n",
        "# #     plt.imshow(X_val[i])\n",
        "#     color = 'green' if get_event_name(np.argmax(p[i])) == get_event_name(np.argmax(y_test[i])) else 'red'\n",
        "#     plt.xlabel(get_event_name(np.argmax(p[i])),color=color)\n",
        "# plt.show()"
      ],
      "metadata": {
        "execution": {
          "iopub.status.busy": "2023-02-24T16:37:55.208733Z",
          "iopub.execute_input": "2023-02-24T16:37:55.208981Z",
          "iopub.status.idle": "2023-02-24T16:37:56.133833Z",
          "shell.execute_reply.started": "2023-02-24T16:37:55.208959Z",
          "shell.execute_reply": "2023-02-24T16:37:56.132836Z"
        },
        "trusted": true,
        "id": "8-I4u1ODm5cB"
      },
      "execution_count": null,
      "outputs": []
    },
    {
      "cell_type": "code",
      "source": [],
      "metadata": {
        "id": "wu9SeimWm5cC"
      },
      "execution_count": null,
      "outputs": []
    },
    {
      "cell_type": "code",
      "source": [],
      "metadata": {
        "id": "zz0IxQJ2m5cD"
      },
      "execution_count": null,
      "outputs": []
    },
    {
      "cell_type": "code",
      "source": [],
      "metadata": {
        "id": "OJuji3gEm5cD"
      },
      "execution_count": null,
      "outputs": []
    },
    {
      "cell_type": "code",
      "source": [],
      "metadata": {
        "id": "kUrE1OeZm5cD"
      },
      "execution_count": null,
      "outputs": []
    },
    {
      "cell_type": "code",
      "source": [],
      "metadata": {
        "id": "wx6BZIKUm5cD"
      },
      "execution_count": null,
      "outputs": []
    },
    {
      "cell_type": "code",
      "source": [],
      "metadata": {
        "id": "5IaNrHelm5cD"
      },
      "execution_count": null,
      "outputs": []
    }
  ]
}