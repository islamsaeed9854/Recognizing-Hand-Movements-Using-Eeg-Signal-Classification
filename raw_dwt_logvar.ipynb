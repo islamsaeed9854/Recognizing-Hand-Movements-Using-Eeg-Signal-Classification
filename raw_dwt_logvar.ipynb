{
  "cells": [
    {
      "cell_type": "code",
      "execution_count": 2,
      "metadata": {
        "id": "bCuB9kKiDMTz"
      },
      "outputs": [],
      "source": [
        "%%capture\n",
        "!pip install mne\n",
        "import os\n",
        "from glob import glob\n",
        "import numpy as np\n",
        "import pandas as pd\n",
        "import mne\n",
        "import warnings\n",
        "import matplotlib.pyplot as plt\n",
        "warnings.filterwarnings('ignore')"
      ]
    },
    {
      "cell_type": "code",
      "execution_count": 3,
      "metadata": {
        "id": "S5hTUK9g9gkn"
      },
      "outputs": [],
      "source": [
        "import os\n",
        "import glob\n",
        "import numpy as np\n",
        "import mne\n",
        "import pandas as pd\n",
        "import random\n",
        "#import tensorflow as tf\n",
        "#import matplotlib.pyplot as plt\n",
        "#import warnings\n",
        "#from pathlib import Path\n",
        "#from sklearn.preprocessing import MinMaxScaler\n",
        "#from sklearn.model_selection import train_test_split\n",
        "#from scipy.io import loadmat\n",
        "#from scipy.signal import butter, lfilter\n",
        "warnings.filterwarnings('ignore')"
      ]
    },
    {
      "cell_type": "code",
      "execution_count": 4,
      "metadata": {
        "id": "QB93iSDZDEkQ",
        "colab": {
          "base_uri": "https://localhost:8080/"
        },
        "outputId": "0f704104-3d31-4362-9487-034a2eed5086"
      },
      "outputs": [
        {
          "output_type": "stream",
          "name": "stdout",
          "text": [
            "Drive already mounted at /content/drive; to attempt to forcibly remount, call drive.mount(\"/content/drive\", force_remount=True).\n"
          ]
        }
      ],
      "source": [
        "from google.colab import drive\n",
        "drive.mount('/content/drive')"
      ]
    },
    {
      "cell_type": "code",
      "execution_count": 5,
      "metadata": {
        "id": "05pZHiQw9iJ1",
        "colab": {
          "base_uri": "https://localhost:8080/"
        },
        "outputId": "e49417a1-ea35-4ed7-cb5a-d9fd58b6e4d4"
      },
      "outputs": [
        {
          "output_type": "stream",
          "name": "stdout",
          "text": [
            "Extracting parameters from /content/drive/MyDrive/eeg-data-row/session1_sub11_reaching_realMove.vhdr...\n",
            "Setting channel info structure...\n",
            "Reading 0 ... 8488199  =      0.000 ...  3395.280 secs...\n",
            "Used Annotations descriptions: ['Comment/actiCAP Active Shield On', 'Comment/actiCAP Data On', 'New Segment/', 'Stimulus/S  1', 'Stimulus/S  2', 'Stimulus/S  3', 'Stimulus/S  4', 'Stimulus/S  5', 'Stimulus/S  6', 'Stimulus/S  8', 'Stimulus/S 11', 'Stimulus/S 13', 'Stimulus/S 14', 'Stimulus/S 21', 'Stimulus/S 31', 'Stimulus/S 41', 'Stimulus/S 51', 'Stimulus/S 61']\n",
            "Not setting metadata\n",
            "300 matching events found\n",
            "Applying baseline correction (mode: mean)\n",
            "0 projection items activated\n",
            "Using data from preloaded Raw for 300 events and 10001 original time points ...\n",
            "0 bad epochs dropped\n"
          ]
        }
      ],
      "source": [
        "raw = mne.io.read_raw_brainvision(\"/content/drive/MyDrive/eeg-data-row/session1_sub11_reaching_realMove.vhdr\", misc='auto', scale=1.0, preload=True, verbose=None)\n",
        "events = mne.events_from_annotations(raw)\n",
        "\n",
        "event_ids = {'Stimulus/S 11': 11,'Stimulus/S 21': 21,'Stimulus/S 31': 31,'Stimulus/S 41': 41,'Stimulus/S 51': 51,'Stimulus/S 61': 61}\n",
        "epochs = mne.Epochs(raw, events[0], event_id=event_ids, tmin=0, tmax=4, preload=True,baseline=(0, 0))"
      ]
    },
    {
      "cell_type": "code",
      "source": [
        "import pywt\n",
        "from pywt import wavedec\n",
        "coeffs = wavedec(epochs, 'db4' , level=6)\n",
        "len(coeffs)"
      ],
      "metadata": {
        "colab": {
          "base_uri": "https://localhost:8080/"
        },
        "id": "tV0xL33yjv4v",
        "outputId": "ed267fb3-44cd-48ef-d1ef-a7e39e7cae60"
      },
      "execution_count": 6,
      "outputs": [
        {
          "output_type": "execute_result",
          "data": {
            "text/plain": [
              "7"
            ]
          },
          "metadata": {},
          "execution_count": 6
        }
      ]
    },
    {
      "cell_type": "code",
      "source": [
        "coeffs_ = np.array(coeffs[6])\n",
        "coeffs_.shape"
      ],
      "metadata": {
        "colab": {
          "base_uri": "https://localhost:8080/"
        },
        "id": "b4ARelR-j1pk",
        "outputId": "606f43da-486a-43b0-a1cd-82f9dad193d6"
      },
      "execution_count": 7,
      "outputs": [
        {
          "output_type": "execute_result",
          "data": {
            "text/plain": [
              "(300, 71, 5004)"
            ]
          },
          "metadata": {},
          "execution_count": 7
        }
      ]
    },
    {
      "cell_type": "code",
      "source": [
        "statCoff= np.log (np.var(coeffs_,axis=1))\n",
        "statCoff.shape"
      ],
      "metadata": {
        "colab": {
          "base_uri": "https://localhost:8080/"
        },
        "id": "5bszHbaokRpp",
        "outputId": "77a68cc5-7788-41c4-bf44-004f5b5aa0a7"
      },
      "execution_count": 8,
      "outputs": [
        {
          "output_type": "execute_result",
          "data": {
            "text/plain": [
              "(300, 5004)"
            ]
          },
          "metadata": {},
          "execution_count": 8
        }
      ]
    },
    {
      "cell_type": "code",
      "source": [
        "labels = np.empty(shape=(300))\n",
        "decode = {11: 0, 21: 1, 31: 2, 41:3, 51: 4, 61: 5, 8 :6}\n",
        "k=0\n",
        "for i in epochs.events:\n",
        "    labels[k]=decode[i[2]]\n",
        "    k+=1"
      ],
      "metadata": {
        "id": "TYQzXfYXoDwx"
      },
      "execution_count": 9,
      "outputs": []
    },
    {
      "cell_type": "code",
      "source": [
        "labels.shape"
      ],
      "metadata": {
        "colab": {
          "base_uri": "https://localhost:8080/"
        },
        "id": "gR29MdkPo_2O",
        "outputId": "dc57cfc1-5408-4c24-bf80-6eca6d21fe91"
      },
      "execution_count": 10,
      "outputs": [
        {
          "output_type": "execute_result",
          "data": {
            "text/plain": [
              "(300,)"
            ]
          },
          "metadata": {},
          "execution_count": 10
        }
      ]
    },
    {
      "cell_type": "code",
      "source": [
        "from sklearn.model_selection import train_test_split\n",
        "X_train, X_val, y_train, y_val = train_test_split(statCoff, labels, test_size = 0.2,stratify=labels,shuffle=True)"
      ],
      "metadata": {
        "id": "vnoID_9boslI"
      },
      "execution_count": 11,
      "outputs": []
    },
    {
      "cell_type": "code",
      "source": [
        "X_train.shape , X_val.shape , y_train.shape , y_val.shape"
      ],
      "metadata": {
        "colab": {
          "base_uri": "https://localhost:8080/"
        },
        "id": "P93Ia-4rpN2b",
        "outputId": "bce298f6-a674-476d-bff6-3272814eb785"
      },
      "execution_count": 12,
      "outputs": [
        {
          "output_type": "execute_result",
          "data": {
            "text/plain": [
              "((240, 5004), (60, 5004), (240,), (60,))"
            ]
          },
          "metadata": {},
          "execution_count": 12
        }
      ]
    },
    {
      "cell_type": "code",
      "source": [
        "from sklearn import svm\n",
        "from sklearn import metrics\n",
        "\n",
        "#Create a svm Classifier\n",
        "clf = svm.SVC(kernel='linear') # Linear Kernel\n",
        "\n",
        "#Train the model using the training sets\n",
        "clf.fit(X_train, y_train)\n",
        "\n",
        "#Predict the response for test dataset\n",
        "y_pred = clf.predict(X_val)\n",
        "\n",
        "print(\"Accuracy:\",metrics.accuracy_score(y_val, y_pred))"
      ],
      "metadata": {
        "colab": {
          "base_uri": "https://localhost:8080/"
        },
        "id": "JLu6GpGplugl",
        "outputId": "b742acbf-2fb9-4d64-bf3c-e791b6b97eb8"
      },
      "execution_count": 13,
      "outputs": [
        {
          "output_type": "stream",
          "name": "stdout",
          "text": [
            "Accuracy: 0.8666666666666667\n"
          ]
        }
      ]
    },
    {
      "cell_type": "code",
      "source": [
        "from sklearn.metrics import ConfusionMatrixDisplay ,confusion_matrix\n",
        "\n",
        "cm=confusion_matrix(y_val,y_pred)\n",
        "disp=ConfusionMatrixDisplay(cm)\n",
        "disp.plot()\n"
      ],
      "metadata": {
        "colab": {
          "base_uri": "https://localhost:8080/",
          "height": 472
        },
        "id": "st2W7pCrpdLO",
        "outputId": "26601e61-d3a6-46b3-ab6b-0da497964c0a"
      },
      "execution_count": 14,
      "outputs": [
        {
          "output_type": "execute_result",
          "data": {
            "text/plain": [
              "<sklearn.metrics._plot.confusion_matrix.ConfusionMatrixDisplay at 0x7ff3bb5a79a0>"
            ]
          },
          "metadata": {},
          "execution_count": 14
        },
        {
          "output_type": "display_data",
          "data": {
            "text/plain": [
              "<Figure size 640x480 with 2 Axes>"
            ],
            "image/png": "[encoded data removed]"
          },
          "metadata": {}
        }
      ]
    },
    {
      "cell_type": "code",
      "source": [
        "import tensorflow as tf\n",
        "from tensorflow import keras\n",
        "\n",
        "model = keras.Sequential([\n",
        "    keras.layers.Dense(64, input_shape=(X_train.shape[1],), activation='relu'),\n",
        "    keras.layers.Dense(32, activation='relu'),\n",
        "    keras.layers.Dense(len(np.unique(y_train)), activation='softmax')\n",
        "])\n",
        "model.compile(optimizer='adam', loss='sparse_categorical_crossentropy', metrics=['accuracy'])\n",
        "history = model.fit(X_train, y_train, epochs=300, validation_data=(X_val, y_val))\n",
        "#\"rmsprop\"\n",
        "# optim=tf.keras.optimizers.Adam(learning_rate=0.001)\n",
        "# model.compile(optimizer=optim,\n",
        "#               loss=\"sparse_categorical_crossentropy\",\n",
        "#               metrics=[\"accuracy\"])\n",
        "# training_results = model.fit(X_train, \n",
        "#                              y_train, \n",
        "#                              epochs=50, \n",
        "#                              batch_size=16, \n",
        "#                              validation_data=(X_val, y_val));"
      ],
      "metadata": {
        "colab": {
          "base_uri": "https://localhost:8080/"
        },
        "id": "xwLKU1ZNrXIj",
        "outputId": "ed1f568c-1abc-4d15-e1b8-49de7b6e20be"
      },
      "execution_count": 25,
      "outputs": [
        {
          "output_type": "stream",
          "name": "stdout",
          "text": [
            "Epoch 1/300\n",
            "8/8 [==============================] - 2s 63ms/step - loss: 48.8865 - accuracy: 0.1583 - val_loss: 41.4367 - val_accuracy: 0.1667\n",
            "Epoch 2/300\n",
            "8/8 [==============================] - 0s 19ms/step - loss: 37.4136 - accuracy: 0.1417 - val_loss: 19.1873 - val_accuracy: 0.1667\n",
            "Epoch 3/300\n",
            "8/8 [==============================] - 0s 17ms/step - loss: 18.9036 - accuracy: 0.1333 - val_loss: 17.2832 - val_accuracy: 0.1667\n",
            "Epoch 4/300\n",
            "8/8 [==============================] - 0s 21ms/step - loss: 16.3215 - accuracy: 0.1792 - val_loss: 11.5984 - val_accuracy: 0.1667\n",
            "Epoch 5/300\n",
            "8/8 [==============================] - 0s 23ms/step - loss: 8.6995 - accuracy: 0.2042 - val_loss: 6.8359 - val_accuracy: 0.1667\n",
            "Epoch 6/300\n",
            "8/8 [==============================] - 0s 18ms/step - loss: 6.4341 - accuracy: 0.1250 - val_loss: 8.5437 - val_accuracy: 0.1667\n",
            "Epoch 7/300\n",
            "8/8 [==============================] - 0s 18ms/step - loss: 7.3042 - accuracy: 0.1542 - val_loss: 10.2158 - val_accuracy: 0.1667\n",
            "Epoch 8/300\n",
            "8/8 [==============================] - 0s 24ms/step - loss: 12.6228 - accuracy: 0.1708 - val_loss: 12.1553 - val_accuracy: 0.1667\n",
            "Epoch 9/300\n",
            "8/8 [==============================] - 0s 24ms/step - loss: 14.7469 - accuracy: 0.1750 - val_loss: 11.4576 - val_accuracy: 0.1667\n",
            "Epoch 10/300\n",
            "8/8 [==============================] - 0s 20ms/step - loss: 9.2041 - accuracy: 0.1958 - val_loss: 6.5106 - val_accuracy: 0.1667\n",
            "Epoch 11/300\n",
            "8/8 [==============================] - 0s 25ms/step - loss: 6.6397 - accuracy: 0.1542 - val_loss: 6.2064 - val_accuracy: 0.1667\n",
            "Epoch 12/300\n",
            "8/8 [==============================] - 0s 18ms/step - loss: 11.7042 - accuracy: 0.1500 - val_loss: 6.7552 - val_accuracy: 0.1667\n",
            "Epoch 13/300\n",
            "8/8 [==============================] - 0s 26ms/step - loss: 13.1090 - accuracy: 0.1667 - val_loss: 7.8500 - val_accuracy: 0.1667\n",
            "Epoch 14/300\n",
            "8/8 [==============================] - 0s 24ms/step - loss: 7.0307 - accuracy: 0.1833 - val_loss: 5.9375 - val_accuracy: 0.2833\n",
            "Epoch 15/300\n",
            "8/8 [==============================] - 0s 21ms/step - loss: 5.7407 - accuracy: 0.1792 - val_loss: 4.2756 - val_accuracy: 0.0167\n",
            "Epoch 16/300\n",
            "8/8 [==============================] - 0s 29ms/step - loss: 8.5361 - accuracy: 0.1417 - val_loss: 9.0720 - val_accuracy: 0.1667\n",
            "Epoch 17/300\n",
            "8/8 [==============================] - 0s 36ms/step - loss: 6.7544 - accuracy: 0.2125 - val_loss: 3.6389 - val_accuracy: 0.1667\n",
            "Epoch 18/300\n",
            "8/8 [==============================] - 0s 31ms/step - loss: 5.3751 - accuracy: 0.2000 - val_loss: 6.1842 - val_accuracy: 0.1667\n",
            "Epoch 19/300\n",
            "8/8 [==============================] - 0s 29ms/step - loss: 6.7414 - accuracy: 0.1292 - val_loss: 4.2154 - val_accuracy: 0.1667\n",
            "Epoch 20/300\n",
            "8/8 [==============================] - 0s 33ms/step - loss: 5.9948 - accuracy: 0.1333 - val_loss: 4.2711 - val_accuracy: 0.2333\n",
            "Epoch 21/300\n",
            "8/8 [==============================] - 0s 28ms/step - loss: 5.1589 - accuracy: 0.1750 - val_loss: 4.5205 - val_accuracy: 0.1667\n",
            "Epoch 22/300\n",
            "8/8 [==============================] - 0s 40ms/step - loss: 5.1246 - accuracy: 0.1958 - val_loss: 2.7689 - val_accuracy: 0.3167\n",
            "Epoch 23/300\n",
            "8/8 [==============================] - 0s 38ms/step - loss: 4.0958 - accuracy: 0.1583 - val_loss: 6.2040 - val_accuracy: 0.1667\n",
            "Epoch 24/300\n",
            "8/8 [==============================] - 0s 45ms/step - loss: 4.0591 - accuracy: 0.1208 - val_loss: 5.1464 - val_accuracy: 0.1667\n",
            "Epoch 25/300\n",
            "8/8 [==============================] - 0s 33ms/step - loss: 3.8738 - accuracy: 0.1625 - val_loss: 1.9778 - val_accuracy: 0.2167\n",
            "Epoch 26/300\n",
            "8/8 [==============================] - 0s 29ms/step - loss: 2.5532 - accuracy: 0.2042 - val_loss: 2.7093 - val_accuracy: 0.1667\n",
            "Epoch 27/300\n",
            "8/8 [==============================] - 0s 29ms/step - loss: 2.2645 - accuracy: 0.2042 - val_loss: 2.4551 - val_accuracy: 0.2667\n",
            "Epoch 28/300\n",
            "8/8 [==============================] - 0s 35ms/step - loss: 2.2660 - accuracy: 0.2083 - val_loss: 2.5303 - val_accuracy: 0.3167\n",
            "Epoch 29/300\n",
            "8/8 [==============================] - 0s 33ms/step - loss: 2.0709 - accuracy: 0.2625 - val_loss: 1.7806 - val_accuracy: 0.2333\n",
            "Epoch 30/300\n",
            "8/8 [==============================] - 0s 37ms/step - loss: 1.9004 - accuracy: 0.2042 - val_loss: 2.0098 - val_accuracy: 0.0333\n",
            "Epoch 31/300\n",
            "8/8 [==============================] - 0s 36ms/step - loss: 1.8593 - accuracy: 0.1958 - val_loss: 2.1650 - val_accuracy: 0.1667\n",
            "Epoch 32/300\n",
            "8/8 [==============================] - 0s 40ms/step - loss: 2.2463 - accuracy: 0.2375 - val_loss: 2.2153 - val_accuracy: 0.3000\n",
            "Epoch 33/300\n",
            "8/8 [==============================] - 0s 28ms/step - loss: 2.1999 - accuracy: 0.2125 - val_loss: 1.7304 - val_accuracy: 0.2333\n",
            "Epoch 34/300\n",
            "8/8 [==============================] - 0s 31ms/step - loss: 2.4116 - accuracy: 0.2500 - val_loss: 2.1884 - val_accuracy: 0.1167\n",
            "Epoch 35/300\n",
            "8/8 [==============================] - 0s 47ms/step - loss: 2.7938 - accuracy: 0.2167 - val_loss: 5.0146 - val_accuracy: 0.1667\n",
            "Epoch 36/300\n",
            "8/8 [==============================] - 0s 34ms/step - loss: 3.6017 - accuracy: 0.2292 - val_loss: 4.1262 - val_accuracy: 0.0667\n",
            "Epoch 37/300\n",
            "8/8 [==============================] - 0s 27ms/step - loss: 3.4617 - accuracy: 0.1375 - val_loss: 3.7343 - val_accuracy: 0.0000e+00\n",
            "Epoch 38/300\n",
            "8/8 [==============================] - 0s 52ms/step - loss: 2.8970 - accuracy: 0.1875 - val_loss: 1.9268 - val_accuracy: 0.3000\n",
            "Epoch 39/300\n",
            "8/8 [==============================] - 0s 30ms/step - loss: 2.4090 - accuracy: 0.2375 - val_loss: 2.0461 - val_accuracy: 0.2000\n",
            "Epoch 40/300\n",
            "8/8 [==============================] - 0s 35ms/step - loss: 2.0345 - accuracy: 0.1667 - val_loss: 2.4281 - val_accuracy: 0.0167\n",
            "Epoch 41/300\n",
            "8/8 [==============================] - 0s 46ms/step - loss: 1.9968 - accuracy: 0.2417 - val_loss: 1.6882 - val_accuracy: 0.3833\n",
            "Epoch 42/300\n",
            "8/8 [==============================] - 0s 41ms/step - loss: 2.1878 - accuracy: 0.2083 - val_loss: 1.7615 - val_accuracy: 0.2833\n",
            "Epoch 43/300\n",
            "8/8 [==============================] - 0s 21ms/step - loss: 2.0774 - accuracy: 0.2458 - val_loss: 1.9809 - val_accuracy: 0.4000\n",
            "Epoch 44/300\n",
            "8/8 [==============================] - 0s 25ms/step - loss: 1.7225 - accuracy: 0.2083 - val_loss: 1.6451 - val_accuracy: 0.0667\n",
            "Epoch 45/300\n",
            "8/8 [==============================] - 0s 20ms/step - loss: 1.7371 - accuracy: 0.2458 - val_loss: 1.9152 - val_accuracy: 0.4000\n",
            "Epoch 46/300\n",
            "8/8 [==============================] - 0s 20ms/step - loss: 1.6778 - accuracy: 0.3667 - val_loss: 1.8767 - val_accuracy: 0.1667\n",
            "Epoch 47/300\n",
            "8/8 [==============================] - 0s 25ms/step - loss: 1.8634 - accuracy: 0.2333 - val_loss: 1.7253 - val_accuracy: 0.1833\n",
            "Epoch 48/300\n",
            "8/8 [==============================] - 0s 41ms/step - loss: 1.9135 - accuracy: 0.2458 - val_loss: 2.3237 - val_accuracy: 0.1667\n",
            "Epoch 49/300\n",
            "8/8 [==============================] - 0s 42ms/step - loss: 1.9212 - accuracy: 0.1500 - val_loss: 1.5581 - val_accuracy: 0.5167\n",
            "Epoch 50/300\n",
            "8/8 [==============================] - 0s 35ms/step - loss: 1.7311 - accuracy: 0.3625 - val_loss: 1.7367 - val_accuracy: 0.3833\n",
            "Epoch 51/300\n",
            "8/8 [==============================] - 0s 22ms/step - loss: 1.7857 - accuracy: 0.2958 - val_loss: 1.7292 - val_accuracy: 0.3000\n",
            "Epoch 52/300\n",
            "8/8 [==============================] - 0s 25ms/step - loss: 1.9772 - accuracy: 0.2500 - val_loss: 1.7555 - val_accuracy: 0.0000e+00\n",
            "Epoch 53/300\n",
            "8/8 [==============================] - 0s 20ms/step - loss: 1.6346 - accuracy: 0.2625 - val_loss: 1.7626 - val_accuracy: 0.1833\n",
            "Epoch 54/300\n",
            "8/8 [==============================] - 0s 19ms/step - loss: 1.7300 - accuracy: 0.3042 - val_loss: 1.7851 - val_accuracy: 0.2667\n",
            "Epoch 55/300\n",
            "8/8 [==============================] - 0s 11ms/step - loss: 1.9370 - accuracy: 0.1958 - val_loss: 1.7108 - val_accuracy: 0.0833\n",
            "Epoch 56/300\n",
            "8/8 [==============================] - 0s 16ms/step - loss: 1.7871 - accuracy: 0.2417 - val_loss: 1.5644 - val_accuracy: 0.2167\n",
            "Epoch 57/300\n",
            "8/8 [==============================] - 0s 11ms/step - loss: 1.6193 - accuracy: 0.3250 - val_loss: 1.5897 - val_accuracy: 0.2167\n",
            "Epoch 58/300\n",
            "8/8 [==============================] - 0s 11ms/step - loss: 1.5799 - accuracy: 0.3167 - val_loss: 1.5410 - val_accuracy: 0.2333\n",
            "Epoch 59/300\n",
            "8/8 [==============================] - 0s 11ms/step - loss: 1.5510 - accuracy: 0.3375 - val_loss: 1.5487 - val_accuracy: 0.2500\n",
            "Epoch 60/300\n",
            "8/8 [==============================] - 0s 11ms/step - loss: 1.6102 - accuracy: 0.2792 - val_loss: 1.5360 - val_accuracy: 0.3500\n",
            "Epoch 61/300\n",
            "8/8 [==============================] - 0s 11ms/step - loss: 1.6411 - accuracy: 0.2667 - val_loss: 1.6418 - val_accuracy: 0.2333\n",
            "Epoch 62/300\n",
            "8/8 [==============================] - 0s 12ms/step - loss: 1.6008 - accuracy: 0.2458 - val_loss: 1.5605 - val_accuracy: 0.3500\n",
            "Epoch 63/300\n",
            "8/8 [==============================] - 0s 13ms/step - loss: 1.6833 - accuracy: 0.3042 - val_loss: 1.7191 - val_accuracy: 0.3500\n",
            "Epoch 64/300\n",
            "8/8 [==============================] - 0s 16ms/step - loss: 1.6205 - accuracy: 0.3000 - val_loss: 1.7709 - val_accuracy: 0.3167\n",
            "Epoch 65/300\n",
            "8/8 [==============================] - 0s 14ms/step - loss: 1.7490 - accuracy: 0.2917 - val_loss: 1.5527 - val_accuracy: 0.4667\n",
            "Epoch 66/300\n",
            "8/8 [==============================] - 0s 14ms/step - loss: 1.6297 - accuracy: 0.3250 - val_loss: 1.6507 - val_accuracy: 0.2500\n",
            "Epoch 67/300\n",
            "8/8 [==============================] - 0s 14ms/step - loss: 1.7298 - accuracy: 0.2833 - val_loss: 1.8745 - val_accuracy: 0.3333\n",
            "Epoch 68/300\n",
            "8/8 [==============================] - 0s 11ms/step - loss: 1.9156 - accuracy: 0.2250 - val_loss: 1.7702 - val_accuracy: 0.3000\n",
            "Epoch 69/300\n",
            "8/8 [==============================] - 0s 11ms/step - loss: 1.7490 - accuracy: 0.2542 - val_loss: 1.5336 - val_accuracy: 0.3000\n",
            "Epoch 70/300\n",
            "8/8 [==============================] - 0s 15ms/step - loss: 1.8405 - accuracy: 0.2917 - val_loss: 2.4217 - val_accuracy: 0.2833\n",
            "Epoch 71/300\n",
            "8/8 [==============================] - 0s 11ms/step - loss: 2.2376 - accuracy: 0.2750 - val_loss: 1.7685 - val_accuracy: 0.3833\n",
            "Epoch 72/300\n",
            "8/8 [==============================] - 0s 13ms/step - loss: 2.1794 - accuracy: 0.2083 - val_loss: 2.2256 - val_accuracy: 0.1667\n",
            "Epoch 73/300\n",
            "8/8 [==============================] - 0s 11ms/step - loss: 2.0750 - accuracy: 0.2667 - val_loss: 2.6121 - val_accuracy: 0.2333\n",
            "Epoch 74/300\n",
            "8/8 [==============================] - 0s 13ms/step - loss: 1.9823 - accuracy: 0.3125 - val_loss: 1.6985 - val_accuracy: 0.2333\n",
            "Epoch 75/300\n",
            "8/8 [==============================] - 0s 16ms/step - loss: 1.6162 - accuracy: 0.2833 - val_loss: 1.6770 - val_accuracy: 0.3333\n",
            "Epoch 76/300\n",
            "8/8 [==============================] - 0s 15ms/step - loss: 1.6744 - accuracy: 0.2792 - val_loss: 1.6398 - val_accuracy: 0.3333\n",
            "Epoch 77/300\n",
            "8/8 [==============================] - 0s 13ms/step - loss: 1.8021 - accuracy: 0.2833 - val_loss: 1.5036 - val_accuracy: 0.3500\n",
            "Epoch 78/300\n",
            "8/8 [==============================] - 0s 13ms/step - loss: 1.5568 - accuracy: 0.3250 - val_loss: 1.7642 - val_accuracy: 0.2167\n",
            "Epoch 79/300\n",
            "8/8 [==============================] - 0s 11ms/step - loss: 1.5960 - accuracy: 0.3292 - val_loss: 1.9592 - val_accuracy: 0.3333\n",
            "Epoch 80/300\n",
            "8/8 [==============================] - 0s 11ms/step - loss: 2.1606 - accuracy: 0.3292 - val_loss: 1.6945 - val_accuracy: 0.3000\n",
            "Epoch 81/300\n",
            "8/8 [==============================] - 0s 14ms/step - loss: 1.7967 - accuracy: 0.2458 - val_loss: 1.9179 - val_accuracy: 0.3333\n",
            "Epoch 82/300\n",
            "8/8 [==============================] - 0s 11ms/step - loss: 1.8473 - accuracy: 0.2500 - val_loss: 1.6153 - val_accuracy: 0.2833\n",
            "Epoch 83/300\n",
            "8/8 [==============================] - 0s 13ms/step - loss: 1.5057 - accuracy: 0.3125 - val_loss: 1.5438 - val_accuracy: 0.1333\n",
            "Epoch 84/300\n",
            "8/8 [==============================] - 0s 13ms/step - loss: 1.5375 - accuracy: 0.3375 - val_loss: 1.6293 - val_accuracy: 0.3333\n",
            "Epoch 85/300\n",
            "8/8 [==============================] - 0s 12ms/step - loss: 1.7027 - accuracy: 0.3500 - val_loss: 1.4604 - val_accuracy: 0.5167\n",
            "Epoch 86/300\n",
            "8/8 [==============================] - 0s 12ms/step - loss: 1.6091 - accuracy: 0.3458 - val_loss: 1.5601 - val_accuracy: 0.4500\n",
            "Epoch 87/300\n",
            "8/8 [==============================] - 0s 13ms/step - loss: 1.7350 - accuracy: 0.2917 - val_loss: 1.8780 - val_accuracy: 0.0667\n",
            "Epoch 88/300\n",
            "8/8 [==============================] - 0s 13ms/step - loss: 1.6779 - accuracy: 0.2458 - val_loss: 1.6795 - val_accuracy: 0.1167\n",
            "Epoch 89/300\n",
            "8/8 [==============================] - 0s 13ms/step - loss: 1.6790 - accuracy: 0.2958 - val_loss: 1.7036 - val_accuracy: 0.2333\n",
            "Epoch 90/300\n",
            "8/8 [==============================] - 0s 13ms/step - loss: 1.6708 - accuracy: 0.2667 - val_loss: 2.1586 - val_accuracy: 0.2500\n",
            "Epoch 91/300\n",
            "8/8 [==============================] - 0s 11ms/step - loss: 1.8317 - accuracy: 0.3000 - val_loss: 1.5664 - val_accuracy: 0.3167\n",
            "Epoch 92/300\n",
            "8/8 [==============================] - 0s 11ms/step - loss: 1.5717 - accuracy: 0.2875 - val_loss: 1.4692 - val_accuracy: 0.3500\n",
            "Epoch 93/300\n",
            "8/8 [==============================] - 0s 13ms/step - loss: 1.4737 - accuracy: 0.3250 - val_loss: 1.4634 - val_accuracy: 0.5000\n",
            "Epoch 94/300\n",
            "8/8 [==============================] - 0s 13ms/step - loss: 1.4160 - accuracy: 0.4417 - val_loss: 1.6437 - val_accuracy: 0.4000\n",
            "Epoch 95/300\n",
            "8/8 [==============================] - 0s 13ms/step - loss: 1.4570 - accuracy: 0.3542 - val_loss: 1.3905 - val_accuracy: 0.4333\n",
            "Epoch 96/300\n",
            "8/8 [==============================] - 0s 13ms/step - loss: 1.4847 - accuracy: 0.3292 - val_loss: 1.3796 - val_accuracy: 0.3833\n",
            "Epoch 97/300\n",
            "8/8 [==============================] - 0s 11ms/step - loss: 1.5520 - accuracy: 0.3458 - val_loss: 1.4374 - val_accuracy: 0.2333\n",
            "Epoch 98/300\n",
            "8/8 [==============================] - 0s 11ms/step - loss: 1.4424 - accuracy: 0.3333 - val_loss: 1.4066 - val_accuracy: 0.3833\n",
            "Epoch 99/300\n",
            "8/8 [==============================] - 0s 16ms/step - loss: 1.4239 - accuracy: 0.3833 - val_loss: 1.4009 - val_accuracy: 0.4833\n",
            "Epoch 100/300\n",
            "8/8 [==============================] - 0s 20ms/step - loss: 1.5770 - accuracy: 0.3375 - val_loss: 1.4573 - val_accuracy: 0.2167\n",
            "Epoch 101/300\n",
            "8/8 [==============================] - 0s 20ms/step - loss: 1.4764 - accuracy: 0.3042 - val_loss: 1.3789 - val_accuracy: 0.3167\n",
            "Epoch 102/300\n",
            "8/8 [==============================] - 0s 18ms/step - loss: 1.5522 - accuracy: 0.2958 - val_loss: 1.8001 - val_accuracy: 0.3333\n",
            "Epoch 103/300\n",
            "8/8 [==============================] - 0s 18ms/step - loss: 1.6582 - accuracy: 0.3167 - val_loss: 1.8207 - val_accuracy: 0.3333\n",
            "Epoch 104/300\n",
            "8/8 [==============================] - 0s 16ms/step - loss: 1.5595 - accuracy: 0.3125 - val_loss: 1.4462 - val_accuracy: 0.4500\n",
            "Epoch 105/300\n",
            "8/8 [==============================] - 0s 16ms/step - loss: 1.4598 - accuracy: 0.3792 - val_loss: 1.3544 - val_accuracy: 0.4000\n",
            "Epoch 106/300\n",
            "8/8 [==============================] - 0s 16ms/step - loss: 1.7419 - accuracy: 0.2875 - val_loss: 1.7718 - val_accuracy: 0.3333\n",
            "Epoch 107/300\n",
            "8/8 [==============================] - 0s 18ms/step - loss: 1.5381 - accuracy: 0.3208 - val_loss: 1.7048 - val_accuracy: 0.3167\n",
            "Epoch 108/300\n",
            "8/8 [==============================] - 0s 20ms/step - loss: 1.5235 - accuracy: 0.3208 - val_loss: 1.5924 - val_accuracy: 0.2333\n",
            "Epoch 109/300\n",
            "8/8 [==============================] - 0s 18ms/step - loss: 1.4546 - accuracy: 0.3333 - val_loss: 1.5733 - val_accuracy: 0.2833\n",
            "Epoch 110/300\n",
            "8/8 [==============================] - 0s 20ms/step - loss: 1.4781 - accuracy: 0.2875 - val_loss: 1.3293 - val_accuracy: 0.4500\n",
            "Epoch 111/300\n",
            "8/8 [==============================] - 0s 18ms/step - loss: 1.3239 - accuracy: 0.5083 - val_loss: 1.4734 - val_accuracy: 0.2333\n",
            "Epoch 112/300\n",
            "8/8 [==============================] - 0s 16ms/step - loss: 1.3862 - accuracy: 0.3667 - val_loss: 1.7249 - val_accuracy: 0.3333\n",
            "Epoch 113/300\n",
            "8/8 [==============================] - 0s 18ms/step - loss: 1.4090 - accuracy: 0.3708 - val_loss: 1.8966 - val_accuracy: 0.1667\n",
            "Epoch 114/300\n",
            "8/8 [==============================] - 0s 17ms/step - loss: 1.7264 - accuracy: 0.3042 - val_loss: 2.2200 - val_accuracy: 0.3333\n",
            "Epoch 115/300\n",
            "8/8 [==============================] - 0s 16ms/step - loss: 1.8141 - accuracy: 0.2833 - val_loss: 2.3803 - val_accuracy: 0.2833\n",
            "Epoch 116/300\n",
            "8/8 [==============================] - 0s 16ms/step - loss: 1.5666 - accuracy: 0.3458 - val_loss: 1.6345 - val_accuracy: 0.3167\n",
            "Epoch 117/300\n",
            "8/8 [==============================] - 0s 17ms/step - loss: 1.7499 - accuracy: 0.2583 - val_loss: 1.6211 - val_accuracy: 0.1667\n",
            "Epoch 118/300\n",
            "8/8 [==============================] - 0s 24ms/step - loss: 1.6333 - accuracy: 0.3208 - val_loss: 2.2155 - val_accuracy: 0.3333\n",
            "Epoch 119/300\n",
            "8/8 [==============================] - 0s 21ms/step - loss: 1.6822 - accuracy: 0.3375 - val_loss: 1.3511 - val_accuracy: 0.3167\n",
            "Epoch 120/300\n",
            "8/8 [==============================] - 0s 20ms/step - loss: 1.7044 - accuracy: 0.3458 - val_loss: 1.8886 - val_accuracy: 0.3333\n",
            "Epoch 121/300\n",
            "8/8 [==============================] - 0s 22ms/step - loss: 1.5321 - accuracy: 0.3833 - val_loss: 1.5281 - val_accuracy: 0.3333\n",
            "Epoch 122/300\n",
            "8/8 [==============================] - 0s 21ms/step - loss: 1.4445 - accuracy: 0.3833 - val_loss: 1.4606 - val_accuracy: 0.2833\n",
            "Epoch 123/300\n",
            "8/8 [==============================] - 0s 21ms/step - loss: 1.4134 - accuracy: 0.3708 - val_loss: 1.5785 - val_accuracy: 0.1833\n",
            "Epoch 124/300\n",
            "8/8 [==============================] - 0s 25ms/step - loss: 1.6370 - accuracy: 0.3000 - val_loss: 1.7515 - val_accuracy: 0.3500\n",
            "Epoch 125/300\n",
            "8/8 [==============================] - 0s 23ms/step - loss: 1.5154 - accuracy: 0.4000 - val_loss: 1.2631 - val_accuracy: 0.4500\n",
            "Epoch 126/300\n",
            "8/8 [==============================] - 0s 25ms/step - loss: 1.2535 - accuracy: 0.4625 - val_loss: 1.3799 - val_accuracy: 0.3833\n",
            "Epoch 127/300\n",
            "8/8 [==============================] - 0s 21ms/step - loss: 1.3135 - accuracy: 0.4167 - val_loss: 1.2470 - val_accuracy: 0.4500\n",
            "Epoch 128/300\n",
            "8/8 [==============================] - 0s 25ms/step - loss: 1.2305 - accuracy: 0.4958 - val_loss: 1.4847 - val_accuracy: 0.4167\n",
            "Epoch 129/300\n",
            "8/8 [==============================] - 0s 22ms/step - loss: 1.4976 - accuracy: 0.3958 - val_loss: 1.3430 - val_accuracy: 0.2000\n",
            "Epoch 130/300\n",
            "8/8 [==============================] - 0s 22ms/step - loss: 1.4418 - accuracy: 0.3208 - val_loss: 1.2247 - val_accuracy: 0.5333\n",
            "Epoch 131/300\n",
            "8/8 [==============================] - 0s 22ms/step - loss: 1.3812 - accuracy: 0.4250 - val_loss: 1.3792 - val_accuracy: 0.4000\n",
            "Epoch 132/300\n",
            "8/8 [==============================] - 0s 18ms/step - loss: 1.4952 - accuracy: 0.3792 - val_loss: 1.5006 - val_accuracy: 0.4000\n",
            "Epoch 133/300\n",
            "8/8 [==============================] - 0s 26ms/step - loss: 1.3159 - accuracy: 0.4917 - val_loss: 1.3219 - val_accuracy: 0.4000\n",
            "Epoch 134/300\n",
            "8/8 [==============================] - 0s 23ms/step - loss: 1.2259 - accuracy: 0.4583 - val_loss: 1.3268 - val_accuracy: 0.3833\n",
            "Epoch 135/300\n",
            "8/8 [==============================] - 0s 25ms/step - loss: 1.4353 - accuracy: 0.3583 - val_loss: 1.4762 - val_accuracy: 0.3333\n",
            "Epoch 136/300\n",
            "8/8 [==============================] - 0s 24ms/step - loss: 1.4299 - accuracy: 0.3208 - val_loss: 1.2004 - val_accuracy: 0.4667\n",
            "Epoch 137/300\n",
            "8/8 [==============================] - 0s 24ms/step - loss: 1.2043 - accuracy: 0.4208 - val_loss: 1.1749 - val_accuracy: 0.5000\n",
            "Epoch 138/300\n",
            "8/8 [==============================] - 0s 22ms/step - loss: 1.3784 - accuracy: 0.4417 - val_loss: 1.2979 - val_accuracy: 0.3667\n",
            "Epoch 139/300\n",
            "8/8 [==============================] - 0s 21ms/step - loss: 1.3484 - accuracy: 0.4000 - val_loss: 1.5538 - val_accuracy: 0.5333\n",
            "Epoch 140/300\n",
            "8/8 [==============================] - 0s 26ms/step - loss: 1.4261 - accuracy: 0.4583 - val_loss: 1.2467 - val_accuracy: 0.5167\n",
            "Epoch 141/300\n",
            "8/8 [==============================] - 0s 23ms/step - loss: 1.3781 - accuracy: 0.4333 - val_loss: 1.1768 - val_accuracy: 0.6833\n",
            "Epoch 142/300\n",
            "8/8 [==============================] - 0s 21ms/step - loss: 1.2427 - accuracy: 0.4417 - val_loss: 1.2727 - val_accuracy: 0.6000\n",
            "Epoch 143/300\n",
            "8/8 [==============================] - 0s 25ms/step - loss: 1.2464 - accuracy: 0.4708 - val_loss: 1.1441 - val_accuracy: 0.4667\n",
            "Epoch 144/300\n",
            "8/8 [==============================] - 0s 24ms/step - loss: 1.1619 - accuracy: 0.5250 - val_loss: 1.5098 - val_accuracy: 0.3333\n",
            "Epoch 145/300\n",
            "8/8 [==============================] - 0s 29ms/step - loss: 1.2922 - accuracy: 0.4500 - val_loss: 1.3467 - val_accuracy: 0.3667\n",
            "Epoch 146/300\n",
            "8/8 [==============================] - 0s 26ms/step - loss: 1.3416 - accuracy: 0.3958 - val_loss: 1.6867 - val_accuracy: 0.3333\n",
            "Epoch 147/300\n",
            "8/8 [==============================] - 0s 26ms/step - loss: 1.4748 - accuracy: 0.3792 - val_loss: 1.2101 - val_accuracy: 0.4833\n",
            "Epoch 148/300\n",
            "8/8 [==============================] - 0s 24ms/step - loss: 1.3144 - accuracy: 0.4667 - val_loss: 1.2053 - val_accuracy: 0.5667\n",
            "Epoch 149/300\n",
            "8/8 [==============================] - 0s 19ms/step - loss: 1.2752 - accuracy: 0.4625 - val_loss: 1.3275 - val_accuracy: 0.5000\n",
            "Epoch 150/300\n",
            "8/8 [==============================] - 0s 20ms/step - loss: 1.4305 - accuracy: 0.3750 - val_loss: 1.3197 - val_accuracy: 0.3167\n",
            "Epoch 151/300\n",
            "8/8 [==============================] - 0s 19ms/step - loss: 1.2701 - accuracy: 0.4125 - val_loss: 1.1470 - val_accuracy: 0.6833\n",
            "Epoch 152/300\n",
            "8/8 [==============================] - 0s 18ms/step - loss: 1.1601 - accuracy: 0.5375 - val_loss: 1.1792 - val_accuracy: 0.4833\n",
            "Epoch 153/300\n",
            "8/8 [==============================] - 0s 19ms/step - loss: 1.1692 - accuracy: 0.5083 - val_loss: 1.3156 - val_accuracy: 0.4500\n",
            "Epoch 154/300\n",
            "8/8 [==============================] - 0s 20ms/step - loss: 1.2548 - accuracy: 0.4583 - val_loss: 1.2077 - val_accuracy: 0.5833\n",
            "Epoch 155/300\n",
            "8/8 [==============================] - 0s 18ms/step - loss: 1.1849 - accuracy: 0.5000 - val_loss: 1.1563 - val_accuracy: 0.4333\n",
            "Epoch 156/300\n",
            "8/8 [==============================] - 0s 19ms/step - loss: 1.1523 - accuracy: 0.5083 - val_loss: 1.4108 - val_accuracy: 0.5000\n",
            "Epoch 157/300\n",
            "8/8 [==============================] - 0s 16ms/step - loss: 1.2236 - accuracy: 0.4833 - val_loss: 1.3432 - val_accuracy: 0.3333\n",
            "Epoch 158/300\n",
            "8/8 [==============================] - 0s 18ms/step - loss: 1.2002 - accuracy: 0.4833 - val_loss: 1.0965 - val_accuracy: 0.6667\n",
            "Epoch 159/300\n",
            "8/8 [==============================] - 0s 18ms/step - loss: 1.0239 - accuracy: 0.6458 - val_loss: 1.0659 - val_accuracy: 0.6667\n",
            "Epoch 160/300\n",
            "8/8 [==============================] - 0s 16ms/step - loss: 1.0441 - accuracy: 0.6708 - val_loss: 1.0453 - val_accuracy: 0.5667\n",
            "Epoch 161/300\n",
            "8/8 [==============================] - 0s 20ms/step - loss: 1.1119 - accuracy: 0.5375 - val_loss: 1.1599 - val_accuracy: 0.5000\n",
            "Epoch 162/300\n",
            "8/8 [==============================] - 0s 19ms/step - loss: 1.1898 - accuracy: 0.4375 - val_loss: 1.0627 - val_accuracy: 0.4500\n",
            "Epoch 163/300\n",
            "8/8 [==============================] - 0s 19ms/step - loss: 1.0960 - accuracy: 0.5000 - val_loss: 1.0711 - val_accuracy: 0.7167\n",
            "Epoch 164/300\n",
            "8/8 [==============================] - 0s 19ms/step - loss: 1.0603 - accuracy: 0.6000 - val_loss: 1.0918 - val_accuracy: 0.5167\n",
            "Epoch 165/300\n",
            "8/8 [==============================] - 0s 17ms/step - loss: 1.1395 - accuracy: 0.4292 - val_loss: 1.0143 - val_accuracy: 0.7167\n",
            "Epoch 166/300\n",
            "8/8 [==============================] - 0s 19ms/step - loss: 1.0758 - accuracy: 0.5833 - val_loss: 1.1800 - val_accuracy: 0.4167\n",
            "Epoch 167/300\n",
            "8/8 [==============================] - 0s 18ms/step - loss: 1.0578 - accuracy: 0.5208 - val_loss: 1.0764 - val_accuracy: 0.5667\n",
            "Epoch 168/300\n",
            "8/8 [==============================] - 0s 20ms/step - loss: 0.9971 - accuracy: 0.6417 - val_loss: 1.2528 - val_accuracy: 0.4500\n",
            "Epoch 169/300\n",
            "8/8 [==============================] - 0s 20ms/step - loss: 1.2242 - accuracy: 0.5125 - val_loss: 0.9930 - val_accuracy: 0.5667\n",
            "Epoch 170/300\n",
            "8/8 [==============================] - 0s 18ms/step - loss: 1.0113 - accuracy: 0.6250 - val_loss: 1.1888 - val_accuracy: 0.4833\n",
            "Epoch 171/300\n",
            "8/8 [==============================] - 0s 19ms/step - loss: 1.0425 - accuracy: 0.6000 - val_loss: 1.0274 - val_accuracy: 0.4833\n",
            "Epoch 172/300\n",
            "8/8 [==============================] - 0s 17ms/step - loss: 0.9549 - accuracy: 0.7083 - val_loss: 0.9248 - val_accuracy: 0.7500\n",
            "Epoch 173/300\n",
            "8/8 [==============================] - 0s 12ms/step - loss: 0.9568 - accuracy: 0.6833 - val_loss: 1.1732 - val_accuracy: 0.5167\n",
            "Epoch 174/300\n",
            "8/8 [==============================] - 0s 13ms/step - loss: 0.9962 - accuracy: 0.6667 - val_loss: 1.1614 - val_accuracy: 0.4333\n",
            "Epoch 175/300\n",
            "8/8 [==============================] - 0s 12ms/step - loss: 0.9761 - accuracy: 0.6292 - val_loss: 1.0629 - val_accuracy: 0.6167\n",
            "Epoch 176/300\n",
            "8/8 [==============================] - 0s 14ms/step - loss: 0.9365 - accuracy: 0.6083 - val_loss: 0.9914 - val_accuracy: 0.5667\n",
            "Epoch 177/300\n",
            "8/8 [==============================] - 0s 11ms/step - loss: 1.0235 - accuracy: 0.5542 - val_loss: 1.2687 - val_accuracy: 0.4000\n",
            "Epoch 178/300\n",
            "8/8 [==============================] - 0s 13ms/step - loss: 0.9784 - accuracy: 0.6625 - val_loss: 1.0374 - val_accuracy: 0.6667\n",
            "Epoch 179/300\n",
            "8/8 [==============================] - 0s 11ms/step - loss: 0.9864 - accuracy: 0.6375 - val_loss: 1.0803 - val_accuracy: 0.4500\n",
            "Epoch 180/300\n",
            "8/8 [==============================] - 0s 11ms/step - loss: 0.9500 - accuracy: 0.6458 - val_loss: 1.0226 - val_accuracy: 0.6667\n",
            "Epoch 181/300\n",
            "8/8 [==============================] - 0s 11ms/step - loss: 0.8967 - accuracy: 0.6792 - val_loss: 1.0701 - val_accuracy: 0.5000\n",
            "Epoch 182/300\n",
            "8/8 [==============================] - 0s 11ms/step - loss: 1.0761 - accuracy: 0.4958 - val_loss: 1.1848 - val_accuracy: 0.3333\n",
            "Epoch 183/300\n",
            "8/8 [==============================] - 0s 13ms/step - loss: 1.1712 - accuracy: 0.4667 - val_loss: 1.1893 - val_accuracy: 0.4667\n",
            "Epoch 184/300\n",
            "8/8 [==============================] - 0s 17ms/step - loss: 1.0802 - accuracy: 0.4625 - val_loss: 1.0101 - val_accuracy: 0.5333\n",
            "Epoch 185/300\n",
            "8/8 [==============================] - 0s 14ms/step - loss: 1.0378 - accuracy: 0.6000 - val_loss: 1.1841 - val_accuracy: 0.5000\n",
            "Epoch 186/300\n",
            "8/8 [==============================] - 0s 14ms/step - loss: 1.0908 - accuracy: 0.6083 - val_loss: 0.9995 - val_accuracy: 0.5333\n",
            "Epoch 187/300\n",
            "8/8 [==============================] - 0s 15ms/step - loss: 0.9720 - accuracy: 0.5792 - val_loss: 0.9562 - val_accuracy: 0.6667\n",
            "Epoch 188/300\n",
            "8/8 [==============================] - 0s 14ms/step - loss: 0.9764 - accuracy: 0.6083 - val_loss: 1.0524 - val_accuracy: 0.6000\n",
            "Epoch 189/300\n",
            "8/8 [==============================] - 0s 14ms/step - loss: 0.9084 - accuracy: 0.6583 - val_loss: 0.8806 - val_accuracy: 0.7500\n",
            "Epoch 190/300\n",
            "8/8 [==============================] - 0s 13ms/step - loss: 0.8603 - accuracy: 0.7542 - val_loss: 0.8440 - val_accuracy: 0.7167\n",
            "Epoch 191/300\n",
            "8/8 [==============================] - 0s 11ms/step - loss: 0.8279 - accuracy: 0.7125 - val_loss: 0.8853 - val_accuracy: 0.7333\n",
            "Epoch 192/300\n",
            "8/8 [==============================] - 0s 17ms/step - loss: 0.9052 - accuracy: 0.6875 - val_loss: 0.8838 - val_accuracy: 0.6833\n",
            "Epoch 193/300\n",
            "8/8 [==============================] - 0s 12ms/step - loss: 0.9804 - accuracy: 0.5792 - val_loss: 0.9588 - val_accuracy: 0.6167\n",
            "Epoch 194/300\n",
            "8/8 [==============================] - 0s 13ms/step - loss: 0.9868 - accuracy: 0.5750 - val_loss: 0.9468 - val_accuracy: 0.6500\n",
            "Epoch 195/300\n",
            "8/8 [==============================] - 0s 17ms/step - loss: 0.9594 - accuracy: 0.5625 - val_loss: 1.0858 - val_accuracy: 0.4000\n",
            "Epoch 196/300\n",
            "8/8 [==============================] - 0s 14ms/step - loss: 1.1505 - accuracy: 0.5042 - val_loss: 1.1910 - val_accuracy: 0.5333\n",
            "Epoch 197/300\n",
            "8/8 [==============================] - 0s 12ms/step - loss: 1.1538 - accuracy: 0.5375 - val_loss: 1.0131 - val_accuracy: 0.4833\n",
            "Epoch 198/300\n",
            "8/8 [==============================] - 0s 13ms/step - loss: 1.2586 - accuracy: 0.4042 - val_loss: 1.0505 - val_accuracy: 0.5333\n",
            "Epoch 199/300\n",
            "8/8 [==============================] - 0s 15ms/step - loss: 0.9173 - accuracy: 0.6250 - val_loss: 0.8927 - val_accuracy: 0.6500\n",
            "Epoch 200/300\n",
            "8/8 [==============================] - 0s 11ms/step - loss: 0.8412 - accuracy: 0.7250 - val_loss: 0.9178 - val_accuracy: 0.5667\n",
            "Epoch 201/300\n",
            "8/8 [==============================] - 0s 14ms/step - loss: 0.9271 - accuracy: 0.5708 - val_loss: 0.8068 - val_accuracy: 0.8167\n",
            "Epoch 202/300\n",
            "8/8 [==============================] - 0s 12ms/step - loss: 0.8602 - accuracy: 0.6583 - val_loss: 0.9398 - val_accuracy: 0.6167\n",
            "Epoch 203/300\n",
            "8/8 [==============================] - 0s 13ms/step - loss: 0.8961 - accuracy: 0.6917 - val_loss: 0.8892 - val_accuracy: 0.6833\n",
            "Epoch 204/300\n",
            "8/8 [==============================] - 0s 14ms/step - loss: 0.8725 - accuracy: 0.6333 - val_loss: 1.1102 - val_accuracy: 0.4500\n",
            "Epoch 205/300\n",
            "8/8 [==============================] - 0s 13ms/step - loss: 1.1775 - accuracy: 0.4417 - val_loss: 0.9860 - val_accuracy: 0.6000\n",
            "Epoch 206/300\n",
            "8/8 [==============================] - 0s 13ms/step - loss: 1.1720 - accuracy: 0.4792 - val_loss: 1.6810 - val_accuracy: 0.5000\n",
            "Epoch 207/300\n",
            "8/8 [==============================] - 0s 12ms/step - loss: 1.2788 - accuracy: 0.4917 - val_loss: 0.7956 - val_accuracy: 0.7333\n",
            "Epoch 208/300\n",
            "8/8 [==============================] - 0s 12ms/step - loss: 0.9827 - accuracy: 0.5542 - val_loss: 1.1746 - val_accuracy: 0.4333\n",
            "Epoch 209/300\n",
            "8/8 [==============================] - 0s 16ms/step - loss: 1.0664 - accuracy: 0.5000 - val_loss: 1.0077 - val_accuracy: 0.4833\n",
            "Epoch 210/300\n",
            "8/8 [==============================] - 0s 13ms/step - loss: 1.0449 - accuracy: 0.5625 - val_loss: 1.2427 - val_accuracy: 0.5833\n",
            "Epoch 211/300\n",
            "8/8 [==============================] - 0s 13ms/step - loss: 1.0490 - accuracy: 0.5542 - val_loss: 1.1896 - val_accuracy: 0.4500\n",
            "Epoch 212/300\n",
            "8/8 [==============================] - 0s 12ms/step - loss: 0.9805 - accuracy: 0.5667 - val_loss: 0.7838 - val_accuracy: 0.7833\n",
            "Epoch 213/300\n",
            "8/8 [==============================] - 0s 17ms/step - loss: 0.8533 - accuracy: 0.6708 - val_loss: 1.0412 - val_accuracy: 0.4667\n",
            "Epoch 214/300\n",
            "8/8 [==============================] - 0s 15ms/step - loss: 0.8186 - accuracy: 0.7042 - val_loss: 0.7547 - val_accuracy: 0.8500\n",
            "Epoch 215/300\n",
            "8/8 [==============================] - 0s 11ms/step - loss: 0.7562 - accuracy: 0.7625 - val_loss: 0.7786 - val_accuracy: 0.7500\n",
            "Epoch 216/300\n",
            "8/8 [==============================] - 0s 12ms/step - loss: 0.7399 - accuracy: 0.7792 - val_loss: 0.7559 - val_accuracy: 0.7500\n",
            "Epoch 217/300\n",
            "8/8 [==============================] - 0s 16ms/step - loss: 0.7430 - accuracy: 0.7917 - val_loss: 0.7325 - val_accuracy: 0.8333\n",
            "Epoch 218/300\n",
            "8/8 [==============================] - 0s 13ms/step - loss: 0.6916 - accuracy: 0.8458 - val_loss: 0.7125 - val_accuracy: 0.8167\n",
            "Epoch 219/300\n",
            "8/8 [==============================] - 0s 11ms/step - loss: 0.6745 - accuracy: 0.8250 - val_loss: 0.8014 - val_accuracy: 0.7333\n",
            "Epoch 220/300\n",
            "8/8 [==============================] - 0s 15ms/step - loss: 0.8347 - accuracy: 0.6667 - val_loss: 1.0256 - val_accuracy: 0.4833\n",
            "Epoch 221/300\n",
            "8/8 [==============================] - 0s 13ms/step - loss: 0.9282 - accuracy: 0.5542 - val_loss: 0.9867 - val_accuracy: 0.6500\n",
            "Epoch 222/300\n",
            "8/8 [==============================] - 0s 11ms/step - loss: 0.7799 - accuracy: 0.6792 - val_loss: 0.6659 - val_accuracy: 0.8167\n",
            "Epoch 223/300\n",
            "8/8 [==============================] - 0s 13ms/step - loss: 0.6957 - accuracy: 0.8333 - val_loss: 0.9773 - val_accuracy: 0.5667\n",
            "Epoch 224/300\n",
            "8/8 [==============================] - 0s 13ms/step - loss: 1.0512 - accuracy: 0.5167 - val_loss: 1.0702 - val_accuracy: 0.5333\n",
            "Epoch 225/300\n",
            "8/8 [==============================] - 0s 11ms/step - loss: 1.0567 - accuracy: 0.5000 - val_loss: 0.8458 - val_accuracy: 0.6167\n",
            "Epoch 226/300\n",
            "8/8 [==============================] - 0s 17ms/step - loss: 0.8645 - accuracy: 0.6250 - val_loss: 0.8675 - val_accuracy: 0.6000\n",
            "Epoch 227/300\n",
            "8/8 [==============================] - 0s 14ms/step - loss: 1.0662 - accuracy: 0.5000 - val_loss: 0.9948 - val_accuracy: 0.4667\n",
            "Epoch 228/300\n",
            "8/8 [==============================] - 0s 12ms/step - loss: 0.9262 - accuracy: 0.5875 - val_loss: 0.8182 - val_accuracy: 0.6167\n",
            "Epoch 229/300\n",
            "8/8 [==============================] - 0s 13ms/step - loss: 0.7503 - accuracy: 0.7625 - val_loss: 0.7378 - val_accuracy: 0.8333\n",
            "Epoch 230/300\n",
            "8/8 [==============================] - 0s 11ms/step - loss: 0.7437 - accuracy: 0.7208 - val_loss: 1.0568 - val_accuracy: 0.4167\n",
            "Epoch 231/300\n",
            "8/8 [==============================] - 0s 14ms/step - loss: 0.8888 - accuracy: 0.6167 - val_loss: 1.0057 - val_accuracy: 0.4333\n",
            "Epoch 232/300\n",
            "8/8 [==============================] - 0s 15ms/step - loss: 0.9498 - accuracy: 0.5750 - val_loss: 0.8053 - val_accuracy: 0.7167\n",
            "Epoch 233/300\n",
            "8/8 [==============================] - 0s 14ms/step - loss: 0.9485 - accuracy: 0.6125 - val_loss: 0.9676 - val_accuracy: 0.4667\n",
            "Epoch 234/300\n",
            "8/8 [==============================] - 0s 12ms/step - loss: 0.8334 - accuracy: 0.6417 - val_loss: 0.6884 - val_accuracy: 0.8500\n",
            "Epoch 235/300\n",
            "8/8 [==============================] - 0s 13ms/step - loss: 1.0018 - accuracy: 0.5000 - val_loss: 1.2780 - val_accuracy: 0.3167\n",
            "Epoch 236/300\n",
            "8/8 [==============================] - 0s 11ms/step - loss: 0.8858 - accuracy: 0.5667 - val_loss: 0.9184 - val_accuracy: 0.5167\n",
            "Epoch 237/300\n",
            "8/8 [==============================] - 0s 12ms/step - loss: 0.7691 - accuracy: 0.7083 - val_loss: 0.6953 - val_accuracy: 0.8333\n",
            "Epoch 238/300\n",
            "8/8 [==============================] - 0s 13ms/step - loss: 0.6575 - accuracy: 0.8583 - val_loss: 0.7716 - val_accuracy: 0.6500\n",
            "Epoch 239/300\n",
            "8/8 [==============================] - 0s 13ms/step - loss: 0.7303 - accuracy: 0.7375 - val_loss: 0.8282 - val_accuracy: 0.7667\n",
            "Epoch 240/300\n",
            "8/8 [==============================] - 0s 13ms/step - loss: 0.6923 - accuracy: 0.7625 - val_loss: 0.7490 - val_accuracy: 0.6667\n",
            "Epoch 241/300\n",
            "8/8 [==============================] - 0s 11ms/step - loss: 0.6616 - accuracy: 0.7917 - val_loss: 0.7358 - val_accuracy: 0.6833\n",
            "Epoch 242/300\n",
            "8/8 [==============================] - 0s 13ms/step - loss: 0.8651 - accuracy: 0.6250 - val_loss: 0.6434 - val_accuracy: 0.8167\n",
            "Epoch 243/300\n",
            "8/8 [==============================] - 0s 15ms/step - loss: 0.8984 - accuracy: 0.6167 - val_loss: 0.8909 - val_accuracy: 0.5500\n",
            "Epoch 244/300\n",
            "8/8 [==============================] - 0s 13ms/step - loss: 0.8426 - accuracy: 0.6250 - val_loss: 1.1382 - val_accuracy: 0.4500\n",
            "Epoch 245/300\n",
            "8/8 [==============================] - 0s 17ms/step - loss: 0.8271 - accuracy: 0.6333 - val_loss: 0.8539 - val_accuracy: 0.6000\n",
            "Epoch 246/300\n",
            "8/8 [==============================] - 0s 11ms/step - loss: 0.7298 - accuracy: 0.7000 - val_loss: 0.8734 - val_accuracy: 0.5333\n",
            "Epoch 247/300\n",
            "8/8 [==============================] - 0s 14ms/step - loss: 0.7182 - accuracy: 0.7125 - val_loss: 0.8314 - val_accuracy: 0.6333\n",
            "Epoch 248/300\n",
            "8/8 [==============================] - 0s 11ms/step - loss: 0.6980 - accuracy: 0.7417 - val_loss: 0.6306 - val_accuracy: 0.8667\n",
            "Epoch 249/300\n",
            "8/8 [==============================] - 0s 15ms/step - loss: 0.6685 - accuracy: 0.7583 - val_loss: 0.7861 - val_accuracy: 0.6500\n",
            "Epoch 250/300\n",
            "8/8 [==============================] - 0s 11ms/step - loss: 0.6476 - accuracy: 0.7875 - val_loss: 0.9075 - val_accuracy: 0.6333\n",
            "Epoch 251/300\n",
            "8/8 [==============================] - 0s 13ms/step - loss: 0.8397 - accuracy: 0.6542 - val_loss: 1.9300 - val_accuracy: 0.2333\n",
            "Epoch 252/300\n",
            "8/8 [==============================] - 0s 14ms/step - loss: 1.4053 - accuracy: 0.4375 - val_loss: 1.1694 - val_accuracy: 0.5000\n",
            "Epoch 253/300\n",
            "8/8 [==============================] - 0s 13ms/step - loss: 1.1184 - accuracy: 0.5167 - val_loss: 1.4692 - val_accuracy: 0.5000\n",
            "Epoch 254/300\n",
            "8/8 [==============================] - 0s 13ms/step - loss: 1.1738 - accuracy: 0.4333 - val_loss: 0.8159 - val_accuracy: 0.7333\n",
            "Epoch 255/300\n",
            "8/8 [==============================] - 0s 11ms/step - loss: 0.8845 - accuracy: 0.6083 - val_loss: 0.8808 - val_accuracy: 0.6000\n",
            "Epoch 256/300\n",
            "8/8 [==============================] - 0s 16ms/step - loss: 0.7929 - accuracy: 0.6625 - val_loss: 0.6884 - val_accuracy: 0.8167\n",
            "Epoch 257/300\n",
            "8/8 [==============================] - 0s 11ms/step - loss: 0.6070 - accuracy: 0.8833 - val_loss: 0.6412 - val_accuracy: 0.8833\n",
            "Epoch 258/300\n",
            "8/8 [==============================] - 0s 11ms/step - loss: 0.6224 - accuracy: 0.8250 - val_loss: 0.6192 - val_accuracy: 0.7833\n",
            "Epoch 259/300\n",
            "8/8 [==============================] - 0s 12ms/step - loss: 0.7516 - accuracy: 0.6917 - val_loss: 0.8212 - val_accuracy: 0.5500\n",
            "Epoch 260/300\n",
            "8/8 [==============================] - 0s 13ms/step - loss: 0.7605 - accuracy: 0.7167 - val_loss: 0.7580 - val_accuracy: 0.7167\n",
            "Epoch 261/300\n",
            "8/8 [==============================] - 0s 13ms/step - loss: 0.6970 - accuracy: 0.7167 - val_loss: 0.6459 - val_accuracy: 0.7500\n",
            "Epoch 262/300\n",
            "8/8 [==============================] - 0s 13ms/step - loss: 0.6579 - accuracy: 0.7417 - val_loss: 0.6904 - val_accuracy: 0.6667\n",
            "Epoch 263/300\n",
            "8/8 [==============================] - 0s 14ms/step - loss: 0.7839 - accuracy: 0.6708 - val_loss: 0.8974 - val_accuracy: 0.5333\n",
            "Epoch 264/300\n",
            "8/8 [==============================] - 0s 20ms/step - loss: 0.8028 - accuracy: 0.6792 - val_loss: 0.7570 - val_accuracy: 0.6500\n",
            "Epoch 265/300\n",
            "8/8 [==============================] - 0s 20ms/step - loss: 0.7659 - accuracy: 0.6542 - val_loss: 0.6403 - val_accuracy: 0.7333\n",
            "Epoch 266/300\n",
            "8/8 [==============================] - 0s 17ms/step - loss: 0.7142 - accuracy: 0.7375 - val_loss: 0.6488 - val_accuracy: 0.7333\n",
            "Epoch 267/300\n",
            "8/8 [==============================] - 0s 18ms/step - loss: 0.6895 - accuracy: 0.6875 - val_loss: 1.0445 - val_accuracy: 0.5500\n",
            "Epoch 268/300\n",
            "8/8 [==============================] - 0s 20ms/step - loss: 0.8166 - accuracy: 0.6500 - val_loss: 0.7774 - val_accuracy: 0.6333\n",
            "Epoch 269/300\n",
            "8/8 [==============================] - 0s 20ms/step - loss: 1.0932 - accuracy: 0.4958 - val_loss: 0.8369 - val_accuracy: 0.6500\n",
            "Epoch 270/300\n",
            "8/8 [==============================] - 0s 21ms/step - loss: 0.9703 - accuracy: 0.6125 - val_loss: 0.9316 - val_accuracy: 0.5167\n",
            "Epoch 271/300\n",
            "8/8 [==============================] - 0s 21ms/step - loss: 0.8216 - accuracy: 0.6542 - val_loss: 0.7877 - val_accuracy: 0.6167\n",
            "Epoch 272/300\n",
            "8/8 [==============================] - 0s 19ms/step - loss: 0.6989 - accuracy: 0.7042 - val_loss: 0.6098 - val_accuracy: 0.7667\n",
            "Epoch 273/300\n",
            "8/8 [==============================] - 0s 19ms/step - loss: 0.6648 - accuracy: 0.7417 - val_loss: 0.8606 - val_accuracy: 0.6667\n",
            "Epoch 274/300\n",
            "8/8 [==============================] - 0s 19ms/step - loss: 0.7409 - accuracy: 0.7333 - val_loss: 0.9484 - val_accuracy: 0.5167\n",
            "Epoch 275/300\n",
            "8/8 [==============================] - 0s 20ms/step - loss: 0.6466 - accuracy: 0.7292 - val_loss: 0.5843 - val_accuracy: 0.8500\n",
            "Epoch 276/300\n",
            "8/8 [==============================] - 0s 16ms/step - loss: 0.6567 - accuracy: 0.7708 - val_loss: 1.2687 - val_accuracy: 0.3667\n",
            "Epoch 277/300\n",
            "8/8 [==============================] - 0s 19ms/step - loss: 0.6663 - accuracy: 0.7042 - val_loss: 0.5229 - val_accuracy: 0.8833\n",
            "Epoch 278/300\n",
            "8/8 [==============================] - 0s 19ms/step - loss: 0.5701 - accuracy: 0.8292 - val_loss: 0.7626 - val_accuracy: 0.6000\n",
            "Epoch 279/300\n",
            "8/8 [==============================] - 0s 19ms/step - loss: 0.6250 - accuracy: 0.7667 - val_loss: 0.6492 - val_accuracy: 0.8167\n",
            "Epoch 280/300\n",
            "8/8 [==============================] - 0s 17ms/step - loss: 0.6680 - accuracy: 0.7333 - val_loss: 0.9792 - val_accuracy: 0.6167\n",
            "Epoch 281/300\n",
            "8/8 [==============================] - 0s 18ms/step - loss: 0.6173 - accuracy: 0.7458 - val_loss: 0.6807 - val_accuracy: 0.7167\n",
            "Epoch 282/300\n",
            "8/8 [==============================] - 0s 18ms/step - loss: 0.6011 - accuracy: 0.7958 - val_loss: 0.5291 - val_accuracy: 0.8667\n",
            "Epoch 283/300\n",
            "8/8 [==============================] - 0s 18ms/step - loss: 0.6419 - accuracy: 0.7542 - val_loss: 0.9520 - val_accuracy: 0.5833\n",
            "Epoch 284/300\n",
            "8/8 [==============================] - 0s 19ms/step - loss: 0.7903 - accuracy: 0.6667 - val_loss: 1.6616 - val_accuracy: 0.4000\n",
            "Epoch 285/300\n",
            "8/8 [==============================] - 0s 18ms/step - loss: 0.9220 - accuracy: 0.6042 - val_loss: 0.9956 - val_accuracy: 0.5833\n",
            "Epoch 286/300\n",
            "8/8 [==============================] - 0s 16ms/step - loss: 0.6668 - accuracy: 0.7125 - val_loss: 0.5102 - val_accuracy: 0.8500\n",
            "Epoch 287/300\n",
            "8/8 [==============================] - 0s 18ms/step - loss: 0.4971 - accuracy: 0.8667 - val_loss: 0.6149 - val_accuracy: 0.7667\n",
            "Epoch 288/300\n",
            "8/8 [==============================] - 0s 18ms/step - loss: 0.6071 - accuracy: 0.7792 - val_loss: 0.7305 - val_accuracy: 0.7500\n",
            "Epoch 289/300\n",
            "8/8 [==============================] - 0s 17ms/step - loss: 0.6159 - accuracy: 0.7458 - val_loss: 0.5806 - val_accuracy: 0.7833\n",
            "Epoch 290/300\n",
            "8/8 [==============================] - 0s 20ms/step - loss: 0.5786 - accuracy: 0.8042 - val_loss: 0.7687 - val_accuracy: 0.6667\n",
            "Epoch 291/300\n",
            "8/8 [==============================] - 0s 20ms/step - loss: 0.5626 - accuracy: 0.7917 - val_loss: 0.4657 - val_accuracy: 0.8833\n",
            "Epoch 292/300\n",
            "8/8 [==============================] - 0s 16ms/step - loss: 0.5066 - accuracy: 0.8500 - val_loss: 1.1067 - val_accuracy: 0.4833\n",
            "Epoch 293/300\n",
            "8/8 [==============================] - 0s 18ms/step - loss: 0.8981 - accuracy: 0.6042 - val_loss: 1.9074 - val_accuracy: 0.3167\n",
            "Epoch 294/300\n",
            "8/8 [==============================] - 0s 18ms/step - loss: 1.5459 - accuracy: 0.3875 - val_loss: 1.6668 - val_accuracy: 0.4500\n",
            "Epoch 295/300\n",
            "8/8 [==============================] - 0s 19ms/step - loss: 1.0829 - accuracy: 0.5625 - val_loss: 0.8748 - val_accuracy: 0.4833\n",
            "Epoch 296/300\n",
            "8/8 [==============================] - 0s 21ms/step - loss: 0.8191 - accuracy: 0.6333 - val_loss: 0.7538 - val_accuracy: 0.6833\n",
            "Epoch 297/300\n",
            "8/8 [==============================] - 0s 20ms/step - loss: 0.6933 - accuracy: 0.7208 - val_loss: 0.5883 - val_accuracy: 0.8000\n",
            "Epoch 298/300\n",
            "8/8 [==============================] - 0s 20ms/step - loss: 0.5477 - accuracy: 0.8250 - val_loss: 0.5712 - val_accuracy: 0.7333\n",
            "Epoch 299/300\n",
            "8/8 [==============================] - 0s 18ms/step - loss: 0.5210 - accuracy: 0.8333 - val_loss: 0.4663 - val_accuracy: 0.8667\n",
            "Epoch 300/300\n",
            "8/8 [==============================] - 0s 20ms/step - loss: 0.4599 - accuracy: 0.8750 - val_loss: 0.5834 - val_accuracy: 0.8833\n"
          ]
        }
      ]
    },
    {
      "cell_type": "code",
      "source": [
        "test_loss, test_acc = model.evaluate(X_val, y_val)\n",
        "print('Test accuracy:', test_acc)"
      ],
      "metadata": {
        "colab": {
          "base_uri": "https://localhost:8080/"
        },
        "id": "EFlfrz4e3Xi7",
        "outputId": "01009afb-1c28-48b5-a439-05ec3b17c6a3"
      },
      "execution_count": 26,
      "outputs": [
        {
          "output_type": "stream",
          "name": "stdout",
          "text": [
            "2/2 [==============================] - 0s 8ms/step - loss: 0.5834 - accuracy: 0.8833\n",
            "Test accuracy: 0.8833333253860474\n"
          ]
        }
      ]
    },
    {
      "cell_type": "code",
      "source": [
        "y_pred = model.predict(X_val)\n",
        "y_pred = np.argmax(y_pred, axis=1)\n",
        "from sklearn.metrics import ConfusionMatrixDisplay ,confusion_matrix\n",
        "\n",
        "cm=confusion_matrix(y_val,y_pred)\n",
        "disp=ConfusionMatrixDisplay(cm)\n",
        "disp.plot()\n"
      ],
      "metadata": {
        "colab": {
          "base_uri": "https://localhost:8080/",
          "height": 490
        },
        "id": "aSomdPAfr74r",
        "outputId": "9abd5bc8-9d97-4f98-f056-932888e52307"
      },
      "execution_count": 27,
      "outputs": [
        {
          "output_type": "stream",
          "name": "stdout",
          "text": [
            "2/2 [==============================] - 0s 6ms/step\n"
          ]
        },
        {
          "output_type": "execute_result",
          "data": {
            "text/plain": [
              "<sklearn.metrics._plot.confusion_matrix.ConfusionMatrixDisplay at 0x7ff3a5c79c40>"
            ]
          },
          "metadata": {},
          "execution_count": 27
        },
        {
          "output_type": "display_data",
          "data": {
            "text/plain": [
              "<Figure size 640x480 with 2 Axes>"
            ],
            "image/png": "[encoded data removed]"
          },
          "metadata": {}
        }
      ]
    },
    {
      "cell_type": "code",
      "source": [],
      "metadata": {
        "id": "T5eWE2BFzoZg"
      },
      "execution_count": 17,
      "outputs": []
    }
  ],
  "metadata": {
    "colab": {
      "provenance": [],
      "toc_visible": true
    },
    "kernelspec": {
      "display_name": "Python 3",
      "name": "python3"
    },
    "language_info": {
      "name": "python"
    }
  },
  "nbformat": 4,
  "nbformat_minor": 0
}
